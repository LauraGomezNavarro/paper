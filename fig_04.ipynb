{
 "cells": [
  {
   "cell_type": "code",
   "execution_count": 1,
   "metadata": {},
   "outputs": [
    {
     "name": "stdout",
     "output_type": "stream",
     "text": [
      "Last update: Tue Jan 14 18:24:51 2020\n"
     ]
    }
   ],
   "source": [
    "import time\n",
    "\n",
    "print 'Last update:', time.ctime(time.time())  \n"
   ]
  },
  {
   "cell_type": "markdown",
   "metadata": {},
   "source": [
    "(adapted from: http://localhost:8888/notebooks/develop/SWOT/Filtering/box_filtering/convergence_180521/tests/diagnostics/just_karin/occigen_outputs/2019-09-20-KARIN_ALL_var_reg2_scores_3params_sets_5%25_boxplot_P_updated_errorbars.ipynb)"
   ]
  },
  {
   "cell_type": "code",
   "execution_count": 2,
   "metadata": {},
   "outputs": [],
   "source": [
    "import numpy as np\n",
    "import matplotlib.pyplot as plt\n",
    "%matplotlib inline"
   ]
  },
  {
   "cell_type": "code",
   "execution_count": 3,
   "metadata": {},
   "outputs": [],
   "source": [
    "import matplotlib.style\n",
    "import matplotlib as mpl\n",
    "mpl.style.use('classic')\n"
   ]
  },
  {
   "cell_type": "code",
   "execution_count": 4,
   "metadata": {},
   "outputs": [
    {
     "data": {
      "application/json": {
       "Software versions": [
        {
         "module": "Python",
         "version": "2.7.11 64bit [GCC 4.2.1 (Based on Apple Inc. build 5658) (LLVM build 2336.11.00)]"
        },
        {
         "module": "IPython",
         "version": "5.8.0"
        },
        {
         "module": "OS",
         "version": "Darwin 16.7.0 x86_64 i386 64bit"
        },
        {
         "module": "numpy",
         "version": "1.16.4"
        },
        {
         "module": "matplotlib",
         "version": "2.2.2"
        },
        {
         "module": "ipykernel",
         "version": "4.10.1"
        },
        {
         "module": "jupyter",
         "version": "1.0.0"
        },
        {
         "module": "notebook",
         "version": "5.7.8"
        }
       ]
      },
      "text/html": [
       "<table><tr><th>Software</th><th>Version</th></tr><tr><td>Python</td><td>2.7.11 64bit [GCC 4.2.1 (Based on Apple Inc. build 5658) (LLVM build 2336.11.00)]</td></tr><tr><td>IPython</td><td>5.8.0</td></tr><tr><td>OS</td><td>Darwin 16.7.0 x86_64 i386 64bit</td></tr><tr><td>numpy</td><td>1.16.4</td></tr><tr><td>matplotlib</td><td>2.2.2</td></tr><tr><td>ipykernel</td><td>4.10.1</td></tr><tr><td>jupyter</td><td>1.0.0</td></tr><tr><td>notebook</td><td>5.7.8</td></tr><tr><td colspan='2'>Tue Jan 14 18:24:53 2020 CET</td></tr></table>"
      ],
      "text/latex": [
       "\\begin{tabular}{|l|l|}\\hline\n",
       "{\\bf Software} & {\\bf Version} \\\\ \\hline\\hline\n",
       "Python & 2.7.11 64bit [GCC 4.2.1 (Based on Apple Inc. build 5658) (LLVM build 2336.11.00)] \\\\ \\hline\n",
       "IPython & 5.8.0 \\\\ \\hline\n",
       "OS & Darwin 16.7.0 x86\\_64 i386 64bit \\\\ \\hline\n",
       "numpy & 1.16.4 \\\\ \\hline\n",
       "matplotlib & 2.2.2 \\\\ \\hline\n",
       "ipykernel & 4.10.1 \\\\ \\hline\n",
       "jupyter & 1.0.0 \\\\ \\hline\n",
       "notebook & 5.7.8 \\\\ \\hline\n",
       "\\hline \\multicolumn{2}{|l|}{Tue Jan 14 18:24:53 2020 CET} \\\\ \\hline\n",
       "\\end{tabular}\n"
      ],
      "text/plain": [
       "Software versions\n",
       "Python 2.7.11 64bit [GCC 4.2.1 (Based on Apple Inc. build 5658) (LLVM build 2336.11.00)]\n",
       "IPython 5.8.0\n",
       "OS Darwin 16.7.0 x86_64 i386 64bit\n",
       "numpy 1.16.4\n",
       "matplotlib 2.2.2\n",
       "ipykernel 4.10.1\n",
       "jupyter 1.0.0\n",
       "notebook 5.7.8\n",
       "Tue Jan 14 18:24:53 2020 CET"
      ]
     },
     "execution_count": 4,
     "metadata": {},
     "output_type": "execute_result"
    }
   ],
   "source": [
    "%load_ext autoreload\n",
    "%autoreload 2\n",
    "%load_ext version_information\n",
    "%version_information numpy, matplotlib, ipykernel, jupyter, notebook"
   ]
  },
  {
   "cell_type": "markdown",
   "metadata": {},
   "source": [
    "# Loading the data:"
   ]
  },
  {
   "cell_type": "markdown",
   "metadata": {},
   "source": [
    "# Var reg 2:"
   ]
  },
  {
   "cell_type": "markdown",
   "metadata": {},
   "source": [
    "# Rmse:"
   ]
  },
  {
   "cell_type": "code",
   "execution_count": 5,
   "metadata": {},
   "outputs": [],
   "source": [
    "filedir = '/Users/laura/PhD_private/develop/SWOT/Filtering/box_filtering/convergence_180521/tests/diagnostics/just_karin/occigen_outputs/'\n",
    "data = np.load(filedir + 'rmse_var_reg_2_JAS12_K.npz') \n",
    "rmse_var_reg_2_ssh_JAS12 = data['rmse_var_reg_2_ssh'] \n",
    "rmse_var_reg_2_gra_JAS12 = data['rmse_var_reg_2_gra'] \n",
    "rmse_var_reg_2_lap_JAS12 = data['rmse_var_reg_2_lap'] \n",
    "\n",
    "rmse_var_reg_2_ssh_p10_JAS12 = data['rmse_var_reg_2_ssh_p10'] \n",
    "rmse_var_reg_2_gra_p10_JAS12 = data['rmse_var_reg_2_gra_p10'] \n",
    "rmse_var_reg_2_lap_p10_JAS12 = data['rmse_var_reg_2_lap_p10'] \n",
    "\n",
    "rmse_var_reg_2_ssh_p90_JAS12 = data['rmse_var_reg_2_ssh_p90'] \n",
    "rmse_var_reg_2_gra_p90_JAS12 = data['rmse_var_reg_2_gra_p90'] \n",
    "rmse_var_reg_2_lap_p90_JAS12 = data['rmse_var_reg_2_lap_p90'] \n"
   ]
  },
  {
   "cell_type": "code",
   "execution_count": 6,
   "metadata": {},
   "outputs": [],
   "source": [
    "param_2 = data['lambdas']"
   ]
  },
  {
   "cell_type": "code",
   "execution_count": 7,
   "metadata": {},
   "outputs": [],
   "source": [
    "data = np.load(filedir + 'rmse_var_reg_2_FMA13_K.npz') \n",
    "rmse_var_reg_2_ssh_FMA13 = data['rmse_var_reg_2_ssh'] \n",
    "rmse_var_reg_2_gra_FMA13 = data['rmse_var_reg_2_gra'] \n",
    "rmse_var_reg_2_lap_FMA13 = data['rmse_var_reg_2_lap'] \n",
    "\n",
    "rmse_var_reg_2_ssh_p10_FMA13 = data['rmse_var_reg_2_ssh_p10'] \n",
    "rmse_var_reg_2_gra_p10_FMA13 = data['rmse_var_reg_2_gra_p10'] \n",
    "rmse_var_reg_2_lap_p10_FMA13 = data['rmse_var_reg_2_lap_p10'] \n",
    "\n",
    "rmse_var_reg_2_ssh_p90_FMA13 = data['rmse_var_reg_2_ssh_p90'] \n",
    "rmse_var_reg_2_gra_p90_FMA13 = data['rmse_var_reg_2_gra_p90'] \n",
    "rmse_var_reg_2_lap_p90_FMA13 = data['rmse_var_reg_2_lap_p90'] "
   ]
  },
  {
   "cell_type": "code",
   "execution_count": 8,
   "metadata": {},
   "outputs": [],
   "source": [
    "data = np.load(filedir + 'rmse_var_reg_2_JAS13_K.npz') \n",
    "rmse_var_reg_2_ssh_JAS13 = data['rmse_var_reg_2_ssh'] \n",
    "rmse_var_reg_2_gra_JAS13 = data['rmse_var_reg_2_gra'] \n",
    "rmse_var_reg_2_lap_JAS13 = data['rmse_var_reg_2_lap'] \n",
    "\n",
    "rmse_var_reg_2_ssh_p10_JAS13 = data['rmse_var_reg_2_ssh_p10'] \n",
    "rmse_var_reg_2_gra_p10_JAS13 = data['rmse_var_reg_2_gra_p10'] \n",
    "rmse_var_reg_2_lap_p10_JAS13 = data['rmse_var_reg_2_lap_p10'] \n",
    "\n",
    "rmse_var_reg_2_ssh_p90_JAS13 = data['rmse_var_reg_2_ssh_p90'] \n",
    "rmse_var_reg_2_gra_p90_JAS13 = data['rmse_var_reg_2_gra_p90'] \n",
    "rmse_var_reg_2_lap_p90_JAS13 = data['rmse_var_reg_2_lap_p90'] "
   ]
  },
  {
   "cell_type": "markdown",
   "metadata": {},
   "source": [
    "# Params_v2:"
   ]
  },
  {
   "cell_type": "code",
   "execution_count": 9,
   "metadata": {},
   "outputs": [],
   "source": [
    "data = np.load(filedir + 'rmse_var_reg_2_v2_JAS12_K.npz') "
   ]
  },
  {
   "cell_type": "code",
   "execution_count": 10,
   "metadata": {},
   "outputs": [],
   "source": [
    "param_2_v2 = data['lambdas']"
   ]
  },
  {
   "cell_type": "code",
   "execution_count": 11,
   "metadata": {},
   "outputs": [],
   "source": [
    "rmse_var_reg_2_ssh_JAS12_v2 = data['rmse_var_reg_2_ssh'] \n",
    "rmse_var_reg_2_gra_JAS12_v2 = data['rmse_var_reg_2_gra'] \n",
    "rmse_var_reg_2_lap_JAS12_v2 = data['rmse_var_reg_2_lap'] \n",
    "\n",
    "rmse_var_reg_2_ssh_p10_JAS12_v2 = data['rmse_var_reg_2_ssh_p10'] \n",
    "rmse_var_reg_2_gra_p10_JAS12_v2 = data['rmse_var_reg_2_gra_p10'] \n",
    "rmse_var_reg_2_lap_p10_JAS12_v2 = data['rmse_var_reg_2_lap_p10'] \n",
    "\n",
    "rmse_var_reg_2_ssh_p90_JAS12_v2 = data['rmse_var_reg_2_ssh_p90'] \n",
    "rmse_var_reg_2_gra_p90_JAS12_v2 = data['rmse_var_reg_2_gra_p90'] \n",
    "rmse_var_reg_2_lap_p90_JAS12_v2 = data['rmse_var_reg_2_lap_p90'] \n"
   ]
  },
  {
   "cell_type": "code",
   "execution_count": 12,
   "metadata": {},
   "outputs": [
    {
     "name": "stdout",
     "output_type": "stream",
     "text": [
      "[  0.   5.  55. 105. 155. 205. 255. 305. 355. 405. 455. 505. 555. 605.\n",
      " 655. 705.]\n"
     ]
    }
   ],
   "source": [
    "data = np.load(filedir + 'rmse_var_reg_2_v2_FMA13_K.npz') \n",
    "print data['lambdas']\n",
    "rmse_var_reg_2_ssh_FMA13_v2 = data['rmse_var_reg_2_ssh'] \n",
    "rmse_var_reg_2_gra_FMA13_v2 = data['rmse_var_reg_2_gra'] \n",
    "rmse_var_reg_2_lap_FMA13_v2 = data['rmse_var_reg_2_lap'] \n",
    "\n",
    "rmse_var_reg_2_ssh_p10_FMA13_v2 = data['rmse_var_reg_2_ssh_p10'] \n",
    "rmse_var_reg_2_gra_p10_FMA13_v2 = data['rmse_var_reg_2_gra_p10'] \n",
    "rmse_var_reg_2_lap_p10_FMA13_v2 = data['rmse_var_reg_2_lap_p10'] \n",
    "\n",
    "rmse_var_reg_2_ssh_p90_FMA13_v2 = data['rmse_var_reg_2_ssh_p90'] \n",
    "rmse_var_reg_2_gra_p90_FMA13_v2 = data['rmse_var_reg_2_gra_p90'] \n",
    "rmse_var_reg_2_lap_p90_FMA13_v2 = data['rmse_var_reg_2_lap_p90'] "
   ]
  },
  {
   "cell_type": "code",
   "execution_count": 13,
   "metadata": {},
   "outputs": [
    {
     "name": "stdout",
     "output_type": "stream",
     "text": [
      "[  0.   5.  55. 105. 155. 205. 255. 305. 355. 405. 455. 505. 555. 605.\n",
      " 655. 705.]\n"
     ]
    }
   ],
   "source": [
    "data = np.load(filedir + 'rmse_var_reg_2_v2_JAS13_K.npz') \n",
    "print data['lambdas']\n",
    "rmse_var_reg_2_ssh_JAS13_v2 = data['rmse_var_reg_2_ssh'] \n",
    "rmse_var_reg_2_gra_JAS13_v2 = data['rmse_var_reg_2_gra'] \n",
    "rmse_var_reg_2_lap_JAS13_v2 = data['rmse_var_reg_2_lap'] \n",
    "\n",
    "rmse_var_reg_2_ssh_p10_JAS13_v2 = data['rmse_var_reg_2_ssh_p10'] \n",
    "rmse_var_reg_2_gra_p10_JAS13_v2 = data['rmse_var_reg_2_gra_p10'] \n",
    "rmse_var_reg_2_lap_p10_JAS13_v2 = data['rmse_var_reg_2_lap_p10'] \n",
    "\n",
    "rmse_var_reg_2_ssh_p90_JAS13_v2 = data['rmse_var_reg_2_ssh_p90'] \n",
    "rmse_var_reg_2_gra_p90_JAS13_v2 = data['rmse_var_reg_2_gra_p90'] \n",
    "rmse_var_reg_2_lap_p90_JAS13_v2 = data['rmse_var_reg_2_lap_p90'] "
   ]
  },
  {
   "cell_type": "markdown",
   "metadata": {},
   "source": [
    "# Params_v3:"
   ]
  },
  {
   "cell_type": "code",
   "execution_count": 14,
   "metadata": {},
   "outputs": [],
   "source": [
    "data = np.load(filedir + 'rmse_var_reg_2_v3_JAS12_K.npz') "
   ]
  },
  {
   "cell_type": "code",
   "execution_count": 15,
   "metadata": {},
   "outputs": [],
   "source": [
    "param_2_v3 = data['lambdas']"
   ]
  },
  {
   "cell_type": "code",
   "execution_count": 16,
   "metadata": {},
   "outputs": [],
   "source": [
    "rmse_var_reg_2_ssh_JAS12_v3 = data['rmse_var_reg_2_ssh'] \n",
    "rmse_var_reg_2_gra_JAS12_v3 = data['rmse_var_reg_2_gra'] \n",
    "rmse_var_reg_2_lap_JAS12_v3 = data['rmse_var_reg_2_lap'] \n",
    "\n",
    "rmse_var_reg_2_ssh_p10_JAS12_v3 = data['rmse_var_reg_2_ssh_p10'] \n",
    "rmse_var_reg_2_gra_p10_JAS12_v3 = data['rmse_var_reg_2_gra_p10'] \n",
    "rmse_var_reg_2_lap_p10_JAS12_v3 = data['rmse_var_reg_2_lap_p10'] \n",
    "\n",
    "rmse_var_reg_2_ssh_p90_JAS12_v3 = data['rmse_var_reg_2_ssh_p90'] \n",
    "rmse_var_reg_2_gra_p90_JAS12_v3 = data['rmse_var_reg_2_gra_p90'] \n",
    "rmse_var_reg_2_lap_p90_JAS12_v3 = data['rmse_var_reg_2_lap_p90'] \n"
   ]
  },
  {
   "cell_type": "code",
   "execution_count": 17,
   "metadata": {},
   "outputs": [
    {
     "name": "stdout",
     "output_type": "stream",
     "text": [
      "[  0.  80. 130. 180. 230. 280. 330. 380. 430. 480. 530. 580.]\n"
     ]
    }
   ],
   "source": [
    "data = np.load(filedir + 'rmse_var_reg_2_v3_FMA13_K.npz') \n",
    "print data['lambdas']\n",
    "rmse_var_reg_2_ssh_FMA13_v3 = data['rmse_var_reg_2_ssh'] \n",
    "rmse_var_reg_2_gra_FMA13_v3 = data['rmse_var_reg_2_gra'] \n",
    "rmse_var_reg_2_lap_FMA13_v3 = data['rmse_var_reg_2_lap'] \n",
    "\n",
    "rmse_var_reg_2_ssh_p10_FMA13_v3 = data['rmse_var_reg_2_ssh_p10'] \n",
    "rmse_var_reg_2_gra_p10_FMA13_v3 = data['rmse_var_reg_2_gra_p10'] \n",
    "rmse_var_reg_2_lap_p10_FMA13_v3 = data['rmse_var_reg_2_lap_p10'] \n",
    "\n",
    "rmse_var_reg_2_ssh_p90_FMA13_v3 = data['rmse_var_reg_2_ssh_p90'] \n",
    "rmse_var_reg_2_gra_p90_FMA13_v3 = data['rmse_var_reg_2_gra_p90'] \n",
    "rmse_var_reg_2_lap_p90_FMA13_v3 = data['rmse_var_reg_2_lap_p90'] "
   ]
  },
  {
   "cell_type": "code",
   "execution_count": 18,
   "metadata": {},
   "outputs": [
    {
     "name": "stdout",
     "output_type": "stream",
     "text": [
      "[  0.  80. 130. 180. 230. 280. 330. 380. 430. 480. 530. 580.]\n"
     ]
    }
   ],
   "source": [
    "data = np.load(filedir + 'rmse_var_reg_2_v3_JAS13_K.npz') \n",
    "print data['lambdas']\n",
    "rmse_var_reg_2_ssh_JAS13_v3 = data['rmse_var_reg_2_ssh'] \n",
    "rmse_var_reg_2_gra_JAS13_v3 = data['rmse_var_reg_2_gra'] \n",
    "rmse_var_reg_2_lap_JAS13_v3 = data['rmse_var_reg_2_lap'] \n",
    "\n",
    "rmse_var_reg_2_ssh_p10_JAS13_v3 = data['rmse_var_reg_2_ssh_p10'] \n",
    "rmse_var_reg_2_gra_p10_JAS13_v3 = data['rmse_var_reg_2_gra_p10'] \n",
    "rmse_var_reg_2_lap_p10_JAS13_v3 = data['rmse_var_reg_2_lap_p10'] \n",
    "\n",
    "rmse_var_reg_2_ssh_p90_JAS13_v3 = data['rmse_var_reg_2_ssh_p90'] \n",
    "rmse_var_reg_2_gra_p90_JAS13_v3 = data['rmse_var_reg_2_gra_p90'] \n",
    "rmse_var_reg_2_lap_p90_JAS13_v3 = data['rmse_var_reg_2_lap_p90'] "
   ]
  },
  {
   "cell_type": "markdown",
   "metadata": {},
   "source": [
    "# Params_v7:"
   ]
  },
  {
   "cell_type": "code",
   "execution_count": 19,
   "metadata": {},
   "outputs": [],
   "source": [
    "data = np.load(filedir + 'rmse_var_reg_2_v7_JAS12_K.npz') "
   ]
  },
  {
   "cell_type": "code",
   "execution_count": 20,
   "metadata": {},
   "outputs": [],
   "source": [
    "param_2_v7 = data['lambdas']"
   ]
  },
  {
   "cell_type": "code",
   "execution_count": 21,
   "metadata": {},
   "outputs": [],
   "source": [
    "rmse_var_reg_2_ssh_JAS12_v7 = data['rmse_var_reg_2_ssh'] \n",
    "rmse_var_reg_2_gra_JAS12_v7 = data['rmse_var_reg_2_gra'] \n",
    "rmse_var_reg_2_lap_JAS12_v7 = data['rmse_var_reg_2_lap'] \n",
    "\n",
    "rmse_var_reg_2_ssh_p10_JAS12_v7 = data['rmse_var_reg_2_ssh_p10'] \n",
    "rmse_var_reg_2_gra_p10_JAS12_v7 = data['rmse_var_reg_2_gra_p10'] \n",
    "rmse_var_reg_2_lap_p10_JAS12_v7 = data['rmse_var_reg_2_lap_p10'] \n",
    "\n",
    "rmse_var_reg_2_ssh_p90_JAS12_v7 = data['rmse_var_reg_2_ssh_p90'] \n",
    "rmse_var_reg_2_gra_p90_JAS12_v7 = data['rmse_var_reg_2_gra_p90'] \n",
    "rmse_var_reg_2_lap_p90_JAS12_v7 = data['rmse_var_reg_2_lap_p90'] \n"
   ]
  },
  {
   "cell_type": "code",
   "execution_count": 22,
   "metadata": {},
   "outputs": [
    {
     "name": "stdout",
     "output_type": "stream",
     "text": [
      "[  0.  70.  85. 100. 115.]\n"
     ]
    }
   ],
   "source": [
    "data = np.load(filedir + 'rmse_var_reg_2_v7_FMA13_K.npz') \n",
    "print data['lambdas']\n",
    "rmse_var_reg_2_ssh_FMA13_v7 = data['rmse_var_reg_2_ssh'] \n",
    "rmse_var_reg_2_gra_FMA13_v7 = data['rmse_var_reg_2_gra'] \n",
    "rmse_var_reg_2_lap_FMA13_v7 = data['rmse_var_reg_2_lap'] \n",
    "\n",
    "rmse_var_reg_2_ssh_p10_FMA13_v7 = data['rmse_var_reg_2_ssh_p10'] \n",
    "rmse_var_reg_2_gra_p10_FMA13_v7 = data['rmse_var_reg_2_gra_p10'] \n",
    "rmse_var_reg_2_lap_p10_FMA13_v7 = data['rmse_var_reg_2_lap_p10'] \n",
    "\n",
    "rmse_var_reg_2_ssh_p90_FMA13_v7 = data['rmse_var_reg_2_ssh_p90'] \n",
    "rmse_var_reg_2_gra_p90_FMA13_v7 = data['rmse_var_reg_2_gra_p90'] \n",
    "rmse_var_reg_2_lap_p90_FMA13_v7 = data['rmse_var_reg_2_lap_p90'] "
   ]
  },
  {
   "cell_type": "code",
   "execution_count": 23,
   "metadata": {},
   "outputs": [
    {
     "name": "stdout",
     "output_type": "stream",
     "text": [
      "[  0.  70.  85. 100. 115.]\n"
     ]
    }
   ],
   "source": [
    "data = np.load(filedir + 'rmse_var_reg_2_v7_JAS13_K.npz') \n",
    "print data['lambdas']\n",
    "rmse_var_reg_2_ssh_JAS13_v7 = data['rmse_var_reg_2_ssh'] \n",
    "rmse_var_reg_2_gra_JAS13_v7 = data['rmse_var_reg_2_gra'] \n",
    "rmse_var_reg_2_lap_JAS13_v7 = data['rmse_var_reg_2_lap'] \n",
    "\n",
    "rmse_var_reg_2_ssh_p10_JAS13_v7 = data['rmse_var_reg_2_ssh_p10'] \n",
    "rmse_var_reg_2_gra_p10_JAS13_v7 = data['rmse_var_reg_2_gra_p10'] \n",
    "rmse_var_reg_2_lap_p10_JAS13_v7 = data['rmse_var_reg_2_lap_p10'] \n",
    "\n",
    "rmse_var_reg_2_ssh_p90_JAS13_v7 = data['rmse_var_reg_2_ssh_p90'] \n",
    "rmse_var_reg_2_gra_p90_JAS13_v7 = data['rmse_var_reg_2_gra_p90'] \n",
    "rmse_var_reg_2_lap_p90_JAS13_v7 = data['rmse_var_reg_2_lap_p90'] "
   ]
  },
  {
   "cell_type": "markdown",
   "metadata": {},
   "source": [
    "# Join:"
   ]
  },
  {
   "cell_type": "code",
   "execution_count": 24,
   "metadata": {},
   "outputs": [],
   "source": [
    "params = np.concatenate([param_2, param_2_v2[1::], param_2_v3[1::], param_2_v7[1::]])\n"
   ]
  },
  {
   "cell_type": "code",
   "execution_count": 25,
   "metadata": {},
   "outputs": [],
   "source": [
    "rmse_var_reg_2_ssh_JAS12_all = np.concatenate([rmse_var_reg_2_ssh_JAS12, rmse_var_reg_2_ssh_JAS12_v2[1::], rmse_var_reg_2_ssh_JAS12_v3[1::], rmse_var_reg_2_ssh_JAS12_v7[1::]])\n",
    "rmse_var_reg_2_gra_JAS12_all = np.concatenate([rmse_var_reg_2_gra_JAS12, rmse_var_reg_2_gra_JAS12_v2[1::], rmse_var_reg_2_gra_JAS12_v3[1::], rmse_var_reg_2_gra_JAS12_v7[1::]])\n",
    "rmse_var_reg_2_lap_JAS12_all = np.concatenate([rmse_var_reg_2_lap_JAS12, rmse_var_reg_2_lap_JAS12_v2[1::], rmse_var_reg_2_lap_JAS12_v3[1::], rmse_var_reg_2_lap_JAS12_v7[1::]])"
   ]
  },
  {
   "cell_type": "code",
   "execution_count": 26,
   "metadata": {},
   "outputs": [],
   "source": [
    "rmse_var_reg_2_ssh_FMA13_all = np.concatenate([rmse_var_reg_2_ssh_FMA13, rmse_var_reg_2_ssh_FMA13_v2[1::], rmse_var_reg_2_ssh_FMA13_v3[1::], rmse_var_reg_2_ssh_FMA13_v7[1::]])\n",
    "rmse_var_reg_2_gra_FMA13_all = np.concatenate([rmse_var_reg_2_gra_FMA13, rmse_var_reg_2_gra_FMA13_v2[1::], rmse_var_reg_2_gra_FMA13_v3[1::], rmse_var_reg_2_gra_FMA13_v7[1::]])\n",
    "rmse_var_reg_2_lap_FMA13_all = np.concatenate([rmse_var_reg_2_lap_FMA13, rmse_var_reg_2_lap_FMA13_v2[1::], rmse_var_reg_2_lap_FMA13_v3[1::], rmse_var_reg_2_lap_FMA13_v7[1::]])"
   ]
  },
  {
   "cell_type": "code",
   "execution_count": 27,
   "metadata": {},
   "outputs": [],
   "source": [
    "rmse_var_reg_2_ssh_JAS13_all = np.concatenate([rmse_var_reg_2_ssh_JAS13, rmse_var_reg_2_ssh_JAS13_v2[1::], rmse_var_reg_2_ssh_JAS13_v3[1::], rmse_var_reg_2_ssh_JAS13_v7[1::]])\n",
    "rmse_var_reg_2_gra_JAS13_all = np.concatenate([rmse_var_reg_2_gra_JAS13, rmse_var_reg_2_gra_JAS13_v2[1::], rmse_var_reg_2_gra_JAS13_v3[1::], rmse_var_reg_2_gra_JAS13_v7[1::]])\n",
    "rmse_var_reg_2_lap_JAS13_all = np.concatenate([rmse_var_reg_2_lap_JAS13, rmse_var_reg_2_lap_JAS13_v2[1::], rmse_var_reg_2_lap_JAS13_v3[1::], rmse_var_reg_2_lap_JAS13_v7[1::]])"
   ]
  },
  {
   "cell_type": "markdown",
   "metadata": {},
   "source": [
    "# Sort:"
   ]
  },
  {
   "cell_type": "code",
   "execution_count": 28,
   "metadata": {},
   "outputs": [],
   "source": [
    "params_s = params[params.argsort()]"
   ]
  },
  {
   "cell_type": "code",
   "execution_count": 29,
   "metadata": {},
   "outputs": [],
   "source": [
    "rmse_var_reg_2_ssh_JAS12_all_s_K =rmse_var_reg_2_ssh_JAS12_all[params.argsort()]\n",
    "rmse_var_reg_2_gra_JAS12_all_s_K =rmse_var_reg_2_gra_JAS12_all[params.argsort()]\n",
    "rmse_var_reg_2_lap_JAS12_all_s_K =rmse_var_reg_2_lap_JAS12_all[params.argsort()]"
   ]
  },
  {
   "cell_type": "code",
   "execution_count": 30,
   "metadata": {},
   "outputs": [],
   "source": [
    "rmse_var_reg_2_ssh_FMA13_all_s_K =rmse_var_reg_2_ssh_FMA13_all[params.argsort()]\n",
    "rmse_var_reg_2_gra_FMA13_all_s_K =rmse_var_reg_2_gra_FMA13_all[params.argsort()]\n",
    "rmse_var_reg_2_lap_FMA13_all_s_K =rmse_var_reg_2_lap_FMA13_all[params.argsort()]"
   ]
  },
  {
   "cell_type": "code",
   "execution_count": 31,
   "metadata": {},
   "outputs": [],
   "source": [
    "rmse_var_reg_2_ssh_JAS13_all_s_K =rmse_var_reg_2_ssh_JAS13_all[params.argsort()]\n",
    "rmse_var_reg_2_gra_JAS13_all_s_K =rmse_var_reg_2_gra_JAS13_all[params.argsort()]\n",
    "rmse_var_reg_2_lap_JAS13_all_s_K =rmse_var_reg_2_lap_JAS13_all[params.argsort()]"
   ]
  },
  {
   "cell_type": "code",
   "execution_count": 32,
   "metadata": {},
   "outputs": [],
   "source": [
    "lambdas_pd2_K = params_s"
   ]
  },
  {
   "cell_type": "markdown",
   "metadata": {},
   "source": [
    "# Var reg 2 all:"
   ]
  },
  {
   "cell_type": "code",
   "execution_count": 33,
   "metadata": {},
   "outputs": [],
   "source": [
    "data = np.load(filedir + 'rmse_var_reg_2_JAS12.npz') \n",
    "rmse_var_reg_2_ssh_JAS12 = data['rmse_var_reg_2_ssh'] \n",
    "rmse_var_reg_2_gra_JAS12 = data['rmse_var_reg_2_gra'] \n",
    "rmse_var_reg_2_lap_JAS12 = data['rmse_var_reg_2_lap'] \n",
    "\n",
    "rmse_var_reg_2_ssh_p10_JAS12 = data['rmse_var_reg_2_ssh_p10'] \n",
    "rmse_var_reg_2_gra_p10_JAS12 = data['rmse_var_reg_2_gra_p10'] \n",
    "rmse_var_reg_2_lap_p10_JAS12 = data['rmse_var_reg_2_lap_p10'] \n",
    "\n",
    "rmse_var_reg_2_ssh_p90_JAS12 = data['rmse_var_reg_2_ssh_p90'] \n",
    "rmse_var_reg_2_gra_p90_JAS12 = data['rmse_var_reg_2_gra_p90'] \n",
    "rmse_var_reg_2_lap_p90_JAS12 = data['rmse_var_reg_2_lap_p90'] \n"
   ]
  },
  {
   "cell_type": "code",
   "execution_count": 34,
   "metadata": {},
   "outputs": [],
   "source": [
    "param_2 = data['lambdas']"
   ]
  },
  {
   "cell_type": "code",
   "execution_count": 35,
   "metadata": {},
   "outputs": [],
   "source": [
    "data = np.load(filedir + 'rmse_var_reg_2_FMA13.npz') \n",
    "rmse_var_reg_2_ssh_FMA13 = data['rmse_var_reg_2_ssh'] \n",
    "rmse_var_reg_2_gra_FMA13 = data['rmse_var_reg_2_gra'] \n",
    "rmse_var_reg_2_lap_FMA13 = data['rmse_var_reg_2_lap'] \n",
    "\n",
    "rmse_var_reg_2_ssh_p10_FMA13 = data['rmse_var_reg_2_ssh_p10'] \n",
    "rmse_var_reg_2_gra_p10_FMA13 = data['rmse_var_reg_2_gra_p10'] \n",
    "rmse_var_reg_2_lap_p10_FMA13 = data['rmse_var_reg_2_lap_p10'] \n",
    "\n",
    "rmse_var_reg_2_ssh_p90_FMA13 = data['rmse_var_reg_2_ssh_p90'] \n",
    "rmse_var_reg_2_gra_p90_FMA13 = data['rmse_var_reg_2_gra_p90'] \n",
    "rmse_var_reg_2_lap_p90_FMA13 = data['rmse_var_reg_2_lap_p90'] "
   ]
  },
  {
   "cell_type": "code",
   "execution_count": 36,
   "metadata": {},
   "outputs": [],
   "source": [
    "data = np.load(filedir + 'rmse_var_reg_2_JAS13.npz') \n",
    "rmse_var_reg_2_ssh_JAS13 = data['rmse_var_reg_2_ssh'] \n",
    "rmse_var_reg_2_gra_JAS13 = data['rmse_var_reg_2_gra'] \n",
    "rmse_var_reg_2_lap_JAS13 = data['rmse_var_reg_2_lap'] \n",
    "\n",
    "rmse_var_reg_2_ssh_p10_JAS13 = data['rmse_var_reg_2_ssh_p10'] \n",
    "rmse_var_reg_2_gra_p10_JAS13 = data['rmse_var_reg_2_gra_p10'] \n",
    "rmse_var_reg_2_lap_p10_JAS13 = data['rmse_var_reg_2_lap_p10'] \n",
    "\n",
    "rmse_var_reg_2_ssh_p90_JAS13 = data['rmse_var_reg_2_ssh_p90'] \n",
    "rmse_var_reg_2_gra_p90_JAS13 = data['rmse_var_reg_2_gra_p90'] \n",
    "rmse_var_reg_2_lap_p90_JAS13 = data['rmse_var_reg_2_lap_p90'] "
   ]
  },
  {
   "cell_type": "markdown",
   "metadata": {},
   "source": [
    "# Params_v2:"
   ]
  },
  {
   "cell_type": "code",
   "execution_count": 37,
   "metadata": {},
   "outputs": [],
   "source": [
    "data = np.load(filedir + 'rmse_var_reg_2_v2_JAS12.npz') "
   ]
  },
  {
   "cell_type": "code",
   "execution_count": 38,
   "metadata": {},
   "outputs": [],
   "source": [
    "param_2_v2 = data['lambdas']"
   ]
  },
  {
   "cell_type": "code",
   "execution_count": 39,
   "metadata": {},
   "outputs": [],
   "source": [
    "rmse_var_reg_2_ssh_JAS12_v2 = data['rmse_var_reg_2_ssh'] \n",
    "rmse_var_reg_2_gra_JAS12_v2 = data['rmse_var_reg_2_gra'] \n",
    "rmse_var_reg_2_lap_JAS12_v2 = data['rmse_var_reg_2_lap'] \n",
    "\n",
    "rmse_var_reg_2_ssh_p10_JAS12_v2 = data['rmse_var_reg_2_ssh_p10'] \n",
    "rmse_var_reg_2_gra_p10_JAS12_v2 = data['rmse_var_reg_2_gra_p10'] \n",
    "rmse_var_reg_2_lap_p10_JAS12_v2 = data['rmse_var_reg_2_lap_p10'] \n",
    "\n",
    "rmse_var_reg_2_ssh_p90_JAS12_v2 = data['rmse_var_reg_2_ssh_p90'] \n",
    "rmse_var_reg_2_gra_p90_JAS12_v2 = data['rmse_var_reg_2_gra_p90'] \n",
    "rmse_var_reg_2_lap_p90_JAS12_v2 = data['rmse_var_reg_2_lap_p90'] \n"
   ]
  },
  {
   "cell_type": "code",
   "execution_count": 40,
   "metadata": {},
   "outputs": [
    {
     "name": "stdout",
     "output_type": "stream",
     "text": [
      "[  0.   5.  55. 105. 155. 205. 255. 305. 355. 405. 455. 505. 555. 605.\n",
      " 655. 705.]\n"
     ]
    }
   ],
   "source": [
    "data = np.load(filedir + 'rmse_var_reg_2_v2_FMA13.npz') \n",
    "print data['lambdas']\n",
    "rmse_var_reg_2_ssh_FMA13_v2 = data['rmse_var_reg_2_ssh'] \n",
    "rmse_var_reg_2_gra_FMA13_v2 = data['rmse_var_reg_2_gra'] \n",
    "rmse_var_reg_2_lap_FMA13_v2 = data['rmse_var_reg_2_lap'] \n",
    "\n",
    "rmse_var_reg_2_ssh_p10_FMA13_v2 = data['rmse_var_reg_2_ssh_p10'] \n",
    "rmse_var_reg_2_gra_p10_FMA13_v2 = data['rmse_var_reg_2_gra_p10'] \n",
    "rmse_var_reg_2_lap_p10_FMA13_v2 = data['rmse_var_reg_2_lap_p10'] \n",
    "\n",
    "rmse_var_reg_2_ssh_p90_FMA13_v2 = data['rmse_var_reg_2_ssh_p90'] \n",
    "rmse_var_reg_2_gra_p90_FMA13_v2 = data['rmse_var_reg_2_gra_p90'] \n",
    "rmse_var_reg_2_lap_p90_FMA13_v2 = data['rmse_var_reg_2_lap_p90'] "
   ]
  },
  {
   "cell_type": "code",
   "execution_count": 41,
   "metadata": {},
   "outputs": [
    {
     "name": "stdout",
     "output_type": "stream",
     "text": [
      "[  0.   5.  55. 105. 155. 205. 255. 305. 355. 405. 455. 505. 555. 605.\n",
      " 655. 705.]\n"
     ]
    }
   ],
   "source": [
    "data = np.load(filedir + 'rmse_var_reg_2_v2_JAS13.npz') \n",
    "print data['lambdas']\n",
    "rmse_var_reg_2_ssh_JAS13_v2 = data['rmse_var_reg_2_ssh'] \n",
    "rmse_var_reg_2_gra_JAS13_v2 = data['rmse_var_reg_2_gra'] \n",
    "rmse_var_reg_2_lap_JAS13_v2 = data['rmse_var_reg_2_lap'] \n",
    "\n",
    "rmse_var_reg_2_ssh_p10_JAS13_v2 = data['rmse_var_reg_2_ssh_p10'] \n",
    "rmse_var_reg_2_gra_p10_JAS13_v2 = data['rmse_var_reg_2_gra_p10'] \n",
    "rmse_var_reg_2_lap_p10_JAS13_v2 = data['rmse_var_reg_2_lap_p10'] \n",
    "\n",
    "rmse_var_reg_2_ssh_p90_JAS13_v2 = data['rmse_var_reg_2_ssh_p90'] \n",
    "rmse_var_reg_2_gra_p90_JAS13_v2 = data['rmse_var_reg_2_gra_p90'] \n",
    "rmse_var_reg_2_lap_p90_JAS13_v2 = data['rmse_var_reg_2_lap_p90'] "
   ]
  },
  {
   "cell_type": "markdown",
   "metadata": {},
   "source": [
    "# Params_v3:"
   ]
  },
  {
   "cell_type": "code",
   "execution_count": 42,
   "metadata": {},
   "outputs": [],
   "source": [
    "data = np.load(filedir + 'rmse_var_reg_2_v3_JAS12.npz') "
   ]
  },
  {
   "cell_type": "code",
   "execution_count": 43,
   "metadata": {},
   "outputs": [],
   "source": [
    "param_2_v3 = data['lambdas']"
   ]
  },
  {
   "cell_type": "code",
   "execution_count": 44,
   "metadata": {},
   "outputs": [],
   "source": [
    "rmse_var_reg_2_ssh_JAS12_v3 = data['rmse_var_reg_2_ssh'] \n",
    "rmse_var_reg_2_gra_JAS12_v3 = data['rmse_var_reg_2_gra'] \n",
    "rmse_var_reg_2_lap_JAS12_v3 = data['rmse_var_reg_2_lap'] \n",
    "\n",
    "rmse_var_reg_2_ssh_p10_JAS12_v3 = data['rmse_var_reg_2_ssh_p10'] \n",
    "rmse_var_reg_2_gra_p10_JAS12_v3 = data['rmse_var_reg_2_gra_p10'] \n",
    "rmse_var_reg_2_lap_p10_JAS12_v3 = data['rmse_var_reg_2_lap_p10'] \n",
    "\n",
    "rmse_var_reg_2_ssh_p90_JAS12_v3 = data['rmse_var_reg_2_ssh_p90'] \n",
    "rmse_var_reg_2_gra_p90_JAS12_v3 = data['rmse_var_reg_2_gra_p90'] \n",
    "rmse_var_reg_2_lap_p90_JAS12_v3 = data['rmse_var_reg_2_lap_p90'] \n"
   ]
  },
  {
   "cell_type": "code",
   "execution_count": 45,
   "metadata": {},
   "outputs": [
    {
     "name": "stdout",
     "output_type": "stream",
     "text": [
      "[  0.  80. 130. 180. 230. 280. 330. 380. 430. 480. 530. 580.]\n"
     ]
    }
   ],
   "source": [
    "data = np.load(filedir + 'rmse_var_reg_2_v3_FMA13.npz') \n",
    "print data['lambdas']\n",
    "rmse_var_reg_2_ssh_FMA13_v3 = data['rmse_var_reg_2_ssh'] \n",
    "rmse_var_reg_2_gra_FMA13_v3 = data['rmse_var_reg_2_gra'] \n",
    "rmse_var_reg_2_lap_FMA13_v3 = data['rmse_var_reg_2_lap'] \n",
    "\n",
    "rmse_var_reg_2_ssh_p10_FMA13_v3 = data['rmse_var_reg_2_ssh_p10'] \n",
    "rmse_var_reg_2_gra_p10_FMA13_v3 = data['rmse_var_reg_2_gra_p10'] \n",
    "rmse_var_reg_2_lap_p10_FMA13_v3 = data['rmse_var_reg_2_lap_p10'] \n",
    "\n",
    "rmse_var_reg_2_ssh_p90_FMA13_v3 = data['rmse_var_reg_2_ssh_p90'] \n",
    "rmse_var_reg_2_gra_p90_FMA13_v3 = data['rmse_var_reg_2_gra_p90'] \n",
    "rmse_var_reg_2_lap_p90_FMA13_v3 = data['rmse_var_reg_2_lap_p90'] "
   ]
  },
  {
   "cell_type": "code",
   "execution_count": 46,
   "metadata": {},
   "outputs": [
    {
     "name": "stdout",
     "output_type": "stream",
     "text": [
      "[  0.  80. 130. 180. 230. 280. 330. 380. 430. 480. 530. 580.]\n"
     ]
    }
   ],
   "source": [
    "data = np.load(filedir + 'rmse_var_reg_2_v3_JAS13.npz') \n",
    "print data['lambdas']\n",
    "rmse_var_reg_2_ssh_JAS13_v3 = data['rmse_var_reg_2_ssh'] \n",
    "rmse_var_reg_2_gra_JAS13_v3 = data['rmse_var_reg_2_gra'] \n",
    "rmse_var_reg_2_lap_JAS13_v3 = data['rmse_var_reg_2_lap'] \n",
    "\n",
    "rmse_var_reg_2_ssh_p10_JAS13_v3 = data['rmse_var_reg_2_ssh_p10'] \n",
    "rmse_var_reg_2_gra_p10_JAS13_v3 = data['rmse_var_reg_2_gra_p10'] \n",
    "rmse_var_reg_2_lap_p10_JAS13_v3 = data['rmse_var_reg_2_lap_p10'] \n",
    "\n",
    "rmse_var_reg_2_ssh_p90_JAS13_v3 = data['rmse_var_reg_2_ssh_p90'] \n",
    "rmse_var_reg_2_gra_p90_JAS13_v3 = data['rmse_var_reg_2_gra_p90'] \n",
    "rmse_var_reg_2_lap_p90_JAS13_v3 = data['rmse_var_reg_2_lap_p90'] "
   ]
  },
  {
   "cell_type": "markdown",
   "metadata": {},
   "source": [
    "# Params_v7:"
   ]
  },
  {
   "cell_type": "code",
   "execution_count": 47,
   "metadata": {},
   "outputs": [],
   "source": [
    "data = np.load(filedir + 'rmse_var_reg_2_v7_JAS12.npz') "
   ]
  },
  {
   "cell_type": "code",
   "execution_count": 48,
   "metadata": {},
   "outputs": [],
   "source": [
    "param_2_v7 = data['lambdas']"
   ]
  },
  {
   "cell_type": "code",
   "execution_count": 49,
   "metadata": {},
   "outputs": [],
   "source": [
    "rmse_var_reg_2_ssh_JAS12_v7 = data['rmse_var_reg_2_ssh'] \n",
    "rmse_var_reg_2_gra_JAS12_v7 = data['rmse_var_reg_2_gra'] \n",
    "rmse_var_reg_2_lap_JAS12_v7 = data['rmse_var_reg_2_lap'] \n",
    "\n",
    "rmse_var_reg_2_ssh_p10_JAS12_v7 = data['rmse_var_reg_2_ssh_p10'] \n",
    "rmse_var_reg_2_gra_p10_JAS12_v7 = data['rmse_var_reg_2_gra_p10'] \n",
    "rmse_var_reg_2_lap_p10_JAS12_v7 = data['rmse_var_reg_2_lap_p10'] \n",
    "\n",
    "rmse_var_reg_2_ssh_p90_JAS12_v7 = data['rmse_var_reg_2_ssh_p90'] \n",
    "rmse_var_reg_2_gra_p90_JAS12_v7 = data['rmse_var_reg_2_gra_p90'] \n",
    "rmse_var_reg_2_lap_p90_JAS12_v7 = data['rmse_var_reg_2_lap_p90'] \n"
   ]
  },
  {
   "cell_type": "code",
   "execution_count": 50,
   "metadata": {},
   "outputs": [
    {
     "name": "stdout",
     "output_type": "stream",
     "text": [
      "[  0.  70.  85. 100. 115.]\n"
     ]
    }
   ],
   "source": [
    "data = np.load(filedir + 'rmse_var_reg_2_v7_FMA13.npz') \n",
    "print data['lambdas']\n",
    "rmse_var_reg_2_ssh_FMA13_v7 = data['rmse_var_reg_2_ssh'] \n",
    "rmse_var_reg_2_gra_FMA13_v7 = data['rmse_var_reg_2_gra'] \n",
    "rmse_var_reg_2_lap_FMA13_v7 = data['rmse_var_reg_2_lap'] \n",
    "\n",
    "rmse_var_reg_2_ssh_p10_FMA13_v7 = data['rmse_var_reg_2_ssh_p10'] \n",
    "rmse_var_reg_2_gra_p10_FMA13_v7 = data['rmse_var_reg_2_gra_p10'] \n",
    "rmse_var_reg_2_lap_p10_FMA13_v7 = data['rmse_var_reg_2_lap_p10'] \n",
    "\n",
    "rmse_var_reg_2_ssh_p90_FMA13_v7 = data['rmse_var_reg_2_ssh_p90'] \n",
    "rmse_var_reg_2_gra_p90_FMA13_v7 = data['rmse_var_reg_2_gra_p90'] \n",
    "rmse_var_reg_2_lap_p90_FMA13_v7 = data['rmse_var_reg_2_lap_p90'] "
   ]
  },
  {
   "cell_type": "code",
   "execution_count": 51,
   "metadata": {},
   "outputs": [
    {
     "name": "stdout",
     "output_type": "stream",
     "text": [
      "[  0.  70.  85. 100. 115.]\n"
     ]
    }
   ],
   "source": [
    "data = np.load(filedir + 'rmse_var_reg_2_v7_JAS13.npz') \n",
    "print data['lambdas']\n",
    "rmse_var_reg_2_ssh_JAS13_v7 = data['rmse_var_reg_2_ssh'] \n",
    "rmse_var_reg_2_gra_JAS13_v7 = data['rmse_var_reg_2_gra'] \n",
    "rmse_var_reg_2_lap_JAS13_v7 = data['rmse_var_reg_2_lap'] \n",
    "\n",
    "rmse_var_reg_2_ssh_p10_JAS13_v7 = data['rmse_var_reg_2_ssh_p10'] \n",
    "rmse_var_reg_2_gra_p10_JAS13_v7 = data['rmse_var_reg_2_gra_p10'] \n",
    "rmse_var_reg_2_lap_p10_JAS13_v7 = data['rmse_var_reg_2_lap_p10'] \n",
    "\n",
    "rmse_var_reg_2_ssh_p90_JAS13_v7 = data['rmse_var_reg_2_ssh_p90'] \n",
    "rmse_var_reg_2_gra_p90_JAS13_v7 = data['rmse_var_reg_2_gra_p90'] \n",
    "rmse_var_reg_2_lap_p90_JAS13_v7 = data['rmse_var_reg_2_lap_p90'] "
   ]
  },
  {
   "cell_type": "markdown",
   "metadata": {},
   "source": [
    "# Params_v8:"
   ]
  },
  {
   "cell_type": "code",
   "execution_count": 52,
   "metadata": {},
   "outputs": [
    {
     "name": "stdout",
     "output_type": "stream",
     "text": [
      "[   0.  755.  805.  855.  905.  955. 1005. 1055. 1105. 1155. 1205. 1255.\n",
      " 1305. 1355. 1405. 1455. 1505. 1555. 1605. 1655. 1705. 1755. 1805. 1855.\n",
      " 1905. 1955.]\n",
      "[   0.  755.  805.  855.  905.  955. 1005. 1055. 1105. 1155. 1205. 1255.\n",
      " 1305. 1355. 1405. 1455. 1505. 1555. 1605. 1655. 1705. 1755. 1805. 1855.\n",
      " 1905. 1955.]\n"
     ]
    }
   ],
   "source": [
    "data = np.load(filedir + 'rmse_var_reg_2_v8_JAS12.npz') \n",
    "param_2_v8 = data['lambdas']\n",
    "rmse_var_reg_2_ssh_JAS12_v8 = data['rmse_var_reg_2_ssh'] \n",
    "rmse_var_reg_2_gra_JAS12_v8 = data['rmse_var_reg_2_gra'] \n",
    "rmse_var_reg_2_lap_JAS12_v8 = data['rmse_var_reg_2_lap'] \n",
    "\n",
    "rmse_var_reg_2_ssh_p10_JAS12_v8 = data['rmse_var_reg_2_ssh_p10'] \n",
    "rmse_var_reg_2_gra_p10_JAS12_v8 = data['rmse_var_reg_2_gra_p10'] \n",
    "rmse_var_reg_2_lap_p10_JAS12_v8 = data['rmse_var_reg_2_lap_p10'] \n",
    "\n",
    "rmse_var_reg_2_ssh_p90_JAS12_v8 = data['rmse_var_reg_2_ssh_p90'] \n",
    "rmse_var_reg_2_gra_p90_JAS12_v8 = data['rmse_var_reg_2_gra_p90'] \n",
    "rmse_var_reg_2_lap_p90_JAS12_v8 = data['rmse_var_reg_2_lap_p90'] \n",
    "\n",
    "data = np.load(filedir + 'rmse_var_reg_2_v8_FMA13.npz') \n",
    "print data['lambdas']\n",
    "rmse_var_reg_2_ssh_FMA13_v8 = data['rmse_var_reg_2_ssh'] \n",
    "rmse_var_reg_2_gra_FMA13_v8 = data['rmse_var_reg_2_gra'] \n",
    "rmse_var_reg_2_lap_FMA13_v8 = data['rmse_var_reg_2_lap'] \n",
    "\n",
    "rmse_var_reg_2_ssh_p10_FMA13_v8 = data['rmse_var_reg_2_ssh_p10'] \n",
    "rmse_var_reg_2_gra_p10_FMA13_v8 = data['rmse_var_reg_2_gra_p10'] \n",
    "rmse_var_reg_2_lap_p10_FMA13_v8 = data['rmse_var_reg_2_lap_p10'] \n",
    "\n",
    "rmse_var_reg_2_ssh_p90_FMA13_v8 = data['rmse_var_reg_2_ssh_p90'] \n",
    "rmse_var_reg_2_gra_p90_FMA13_v8 = data['rmse_var_reg_2_gra_p90'] \n",
    "rmse_var_reg_2_lap_p90_FMA13_v8 = data['rmse_var_reg_2_lap_p90'] \n",
    "\n",
    "data = np.load(filedir + 'rmse_var_reg_2_v8_JAS13.npz') \n",
    "print data['lambdas']\n",
    "rmse_var_reg_2_ssh_JAS13_v8 = data['rmse_var_reg_2_ssh'] \n",
    "rmse_var_reg_2_gra_JAS13_v8 = data['rmse_var_reg_2_gra'] \n",
    "rmse_var_reg_2_lap_JAS13_v8 = data['rmse_var_reg_2_lap'] \n",
    "\n",
    "rmse_var_reg_2_ssh_p10_JAS13_v8 = data['rmse_var_reg_2_ssh_p10'] \n",
    "rmse_var_reg_2_gra_p10_JAS13_v8 = data['rmse_var_reg_2_gra_p10'] \n",
    "rmse_var_reg_2_lap_p10_JAS13_v8 = data['rmse_var_reg_2_lap_p10'] \n",
    "\n",
    "rmse_var_reg_2_ssh_p90_JAS13_v8 = data['rmse_var_reg_2_ssh_p90'] \n",
    "rmse_var_reg_2_gra_p90_JAS13_v8 = data['rmse_var_reg_2_gra_p90'] \n",
    "rmse_var_reg_2_lap_p90_JAS13_v8 = data['rmse_var_reg_2_lap_p90'] "
   ]
  },
  {
   "cell_type": "markdown",
   "metadata": {},
   "source": [
    "# Join:"
   ]
  },
  {
   "cell_type": "code",
   "execution_count": 53,
   "metadata": {},
   "outputs": [],
   "source": [
    "params = np.concatenate([param_2, param_2_v2[1::], param_2_v3[1::], param_2_v7[1::], param_2_v8[1::]])\n"
   ]
  },
  {
   "cell_type": "code",
   "execution_count": 54,
   "metadata": {},
   "outputs": [],
   "source": [
    "rmse_var_reg_2_ssh_JAS12_all = np.concatenate([rmse_var_reg_2_ssh_JAS12, rmse_var_reg_2_ssh_JAS12_v2[1::], rmse_var_reg_2_ssh_JAS12_v3[1::], rmse_var_reg_2_ssh_JAS12_v7[1::], rmse_var_reg_2_ssh_JAS12_v8[1::]])\n",
    "rmse_var_reg_2_gra_JAS12_all = np.concatenate([rmse_var_reg_2_gra_JAS12, rmse_var_reg_2_gra_JAS12_v2[1::], rmse_var_reg_2_gra_JAS12_v3[1::], rmse_var_reg_2_gra_JAS12_v7[1::], rmse_var_reg_2_gra_JAS12_v8[1::]])\n",
    "rmse_var_reg_2_lap_JAS12_all = np.concatenate([rmse_var_reg_2_lap_JAS12, rmse_var_reg_2_lap_JAS12_v2[1::], rmse_var_reg_2_lap_JAS12_v3[1::], rmse_var_reg_2_lap_JAS12_v7[1::], rmse_var_reg_2_lap_JAS12_v8[1::]])"
   ]
  },
  {
   "cell_type": "code",
   "execution_count": 55,
   "metadata": {},
   "outputs": [],
   "source": [
    "rmse_var_reg_2_ssh_FMA13_all = np.concatenate([rmse_var_reg_2_ssh_FMA13, rmse_var_reg_2_ssh_FMA13_v2[1::], rmse_var_reg_2_ssh_FMA13_v3[1::], rmse_var_reg_2_ssh_FMA13_v7[1::], rmse_var_reg_2_ssh_FMA13_v8[1::]])\n",
    "rmse_var_reg_2_gra_FMA13_all = np.concatenate([rmse_var_reg_2_gra_FMA13, rmse_var_reg_2_gra_FMA13_v2[1::], rmse_var_reg_2_gra_FMA13_v3[1::], rmse_var_reg_2_gra_FMA13_v7[1::], rmse_var_reg_2_gra_FMA13_v8[1::]])\n",
    "rmse_var_reg_2_lap_FMA13_all = np.concatenate([rmse_var_reg_2_lap_FMA13, rmse_var_reg_2_lap_FMA13_v2[1::], rmse_var_reg_2_lap_FMA13_v3[1::], rmse_var_reg_2_lap_FMA13_v7[1::], rmse_var_reg_2_lap_FMA13_v8[1::]])"
   ]
  },
  {
   "cell_type": "code",
   "execution_count": 56,
   "metadata": {},
   "outputs": [],
   "source": [
    "rmse_var_reg_2_ssh_JAS13_all = np.concatenate([rmse_var_reg_2_ssh_JAS13, rmse_var_reg_2_ssh_JAS13_v2[1::], rmse_var_reg_2_ssh_JAS13_v3[1::], rmse_var_reg_2_ssh_JAS13_v7[1::], rmse_var_reg_2_ssh_JAS13_v8[1::]])\n",
    "rmse_var_reg_2_gra_JAS13_all = np.concatenate([rmse_var_reg_2_gra_JAS13, rmse_var_reg_2_gra_JAS13_v2[1::], rmse_var_reg_2_gra_JAS13_v3[1::], rmse_var_reg_2_gra_JAS13_v7[1::], rmse_var_reg_2_gra_JAS13_v8[1::]])\n",
    "rmse_var_reg_2_lap_JAS13_all = np.concatenate([rmse_var_reg_2_lap_JAS13, rmse_var_reg_2_lap_JAS13_v2[1::], rmse_var_reg_2_lap_JAS13_v3[1::], rmse_var_reg_2_lap_JAS13_v7[1::], rmse_var_reg_2_lap_JAS13_v8[1::]])"
   ]
  },
  {
   "cell_type": "markdown",
   "metadata": {},
   "source": [
    "# Sort:"
   ]
  },
  {
   "cell_type": "code",
   "execution_count": 57,
   "metadata": {},
   "outputs": [],
   "source": [
    "params_s = params[params.argsort()]"
   ]
  },
  {
   "cell_type": "code",
   "execution_count": 58,
   "metadata": {},
   "outputs": [],
   "source": [
    "rmse_var_reg_2_ssh_JAS12_all_s =rmse_var_reg_2_ssh_JAS12_all[params.argsort()]\n",
    "rmse_var_reg_2_gra_JAS12_all_s =rmse_var_reg_2_gra_JAS12_all[params.argsort()]\n",
    "rmse_var_reg_2_lap_JAS12_all_s =rmse_var_reg_2_lap_JAS12_all[params.argsort()]"
   ]
  },
  {
   "cell_type": "code",
   "execution_count": 59,
   "metadata": {},
   "outputs": [],
   "source": [
    "rmse_var_reg_2_ssh_FMA13_all_s =rmse_var_reg_2_ssh_FMA13_all[params.argsort()]\n",
    "rmse_var_reg_2_gra_FMA13_all_s =rmse_var_reg_2_gra_FMA13_all[params.argsort()]\n",
    "rmse_var_reg_2_lap_FMA13_all_s =rmse_var_reg_2_lap_FMA13_all[params.argsort()]"
   ]
  },
  {
   "cell_type": "code",
   "execution_count": 60,
   "metadata": {},
   "outputs": [],
   "source": [
    "rmse_var_reg_2_ssh_JAS13_all_s =rmse_var_reg_2_ssh_JAS13_all[params.argsort()]\n",
    "rmse_var_reg_2_gra_JAS13_all_s =rmse_var_reg_2_gra_JAS13_all[params.argsort()]\n",
    "rmse_var_reg_2_lap_JAS13_all_s =rmse_var_reg_2_lap_JAS13_all[params.argsort()]"
   ]
  },
  {
   "cell_type": "code",
   "execution_count": 61,
   "metadata": {},
   "outputs": [],
   "source": [
    "lambdas_pd2 = params_s"
   ]
  },
  {
   "cell_type": "markdown",
   "metadata": {},
   "source": [
    "# Minimum points:"
   ]
  },
  {
   "cell_type": "markdown",
   "metadata": {},
   "source": [
    "# MSR:"
   ]
  },
  {
   "cell_type": "code",
   "execution_count": 62,
   "metadata": {},
   "outputs": [],
   "source": [
    "MSR_varreg2_K = np.load(filedir + 'spectra/MSR_varreg2_K.npz')\n",
    "MSR_varreg2_A = np.load(filedir + 'spectra/MSR_varreg2_A.npz')"
   ]
  },
  {
   "cell_type": "markdown",
   "metadata": {},
   "source": [
    "# Minimum points karin:"
   ]
  },
  {
   "cell_type": "code",
   "execution_count": 63,
   "metadata": {},
   "outputs": [
    {
     "name": "stdout",
     "output_type": "stream",
     "text": [
      "Var reg 2 minimum points are:\n",
      "################\n",
      "JAS12 = 430.0\n",
      "FMA13 = 95.0\n",
      "JAS13 = 305.0\n",
      "################\n",
      "JAS12 = 0.014251440190678838\n",
      "FMA13 = 0.017828298095856187\n",
      "JAS13 = 0.021643402881322958\n"
     ]
    }
   ],
   "source": [
    "print 'Var reg 2 minimum points are:'\n",
    "print '################'\n",
    "print 'JAS12 = ' + str(MSR_varreg2_K.f.params[np.argmin(MSR_varreg2_K.f.MSR_JAS12)])\n",
    "print 'FMA13 = ' + str(MSR_varreg2_K.f.params[np.argmin(MSR_varreg2_K.f.MSR_FMA13)])\n",
    "print 'JAS13 = ' + str(MSR_varreg2_K.f.params[np.argmin(MSR_varreg2_K.f.MSR_JAS13)])\n",
    "print '################'\n",
    "print 'JAS12 = ' + str(MSR_varreg2_K.f.MSR_JAS12.min())\n",
    "print 'FMA13 = ' + str(MSR_varreg2_K.f.MSR_FMA13.min())\n",
    "print 'JAS13 = ' + str(MSR_varreg2_K.f.MSR_JAS13.min())"
   ]
  },
  {
   "cell_type": "markdown",
   "metadata": {},
   "source": [
    "# Minimum points all:"
   ]
  },
  {
   "cell_type": "code",
   "execution_count": 64,
   "metadata": {},
   "outputs": [
    {
     "name": "stdout",
     "output_type": "stream",
     "text": [
      "Var reg 2 minimum points are:\n",
      "################\n",
      "JAS12 = 555.0\n",
      "FMA13 = 115.0\n",
      "JAS13 = 405.0\n",
      "################\n",
      "JAS12 = 0.03065665619426753\n",
      "FMA13 = 0.013418967215561807\n",
      "JAS13 = 0.025392323244672516\n"
     ]
    }
   ],
   "source": [
    "print 'Var reg 2 minimum points are:'\n",
    "print '################'\n",
    "print 'JAS12 = ' + str(MSR_varreg2_A.f.params[np.argmin(MSR_varreg2_A.f.MSR_JAS12)])\n",
    "print 'FMA13 = ' + str(MSR_varreg2_A.f.params[np.argmin(MSR_varreg2_A.f.MSR_FMA13)])\n",
    "print 'JAS13 = ' + str(MSR_varreg2_A.f.params[np.argmin(MSR_varreg2_A.f.MSR_JAS13)])\n",
    "print '################'\n",
    "print 'JAS12 = ' + str(MSR_varreg2_A.f.MSR_JAS12.min())\n",
    "print 'FMA13 = ' + str(MSR_varreg2_A.f.MSR_FMA13.min())\n",
    "print 'JAS13 = ' + str(MSR_varreg2_A.f.MSR_JAS13.min())"
   ]
  },
  {
   "cell_type": "markdown",
   "metadata": {},
   "source": [
    "* KaRIn JAS12:"
   ]
  },
  {
   "cell_type": "code",
   "execution_count": 65,
   "metadata": {},
   "outputs": [],
   "source": [
    "var_reg_2_ssh_JAS12_min05_K = rmse_var_reg_2_ssh_JAS12_all_s_K[1::].min() + (rmse_var_reg_2_ssh_JAS12_all_s_K[1::].min() * 0.05)\n",
    "var_reg_2_ssh_JAS12_min05_inds_K = np.where(rmse_var_reg_2_ssh_JAS12_all_s_K[1::] < var_reg_2_ssh_JAS12_min05_K)\n"
   ]
  },
  {
   "cell_type": "code",
   "execution_count": 66,
   "metadata": {},
   "outputs": [],
   "source": [
    "var_reg_2_gra_JAS12_min05_K = rmse_var_reg_2_gra_JAS12_all_s_K[1::].min() + (rmse_var_reg_2_gra_JAS12_all_s_K[1::].min() * 0.05)\n",
    "var_reg_2_gra_JAS12_min05_inds_K = np.where(rmse_var_reg_2_gra_JAS12_all_s_K[1::] < var_reg_2_gra_JAS12_min05_K)\n"
   ]
  },
  {
   "cell_type": "code",
   "execution_count": 67,
   "metadata": {},
   "outputs": [],
   "source": [
    "var_reg_2_lap_JAS12_min05_K = rmse_var_reg_2_lap_JAS12_all_s_K[1::].min() + (rmse_var_reg_2_lap_JAS12_all_s_K[1::].min() * 0.05)\n",
    "var_reg_2_lap_JAS12_min05_inds_K = np.where(rmse_var_reg_2_lap_JAS12_all_s_K[1::] < var_reg_2_lap_JAS12_min05_K)\n"
   ]
  },
  {
   "cell_type": "markdown",
   "metadata": {},
   "source": [
    "* FMA13:"
   ]
  },
  {
   "cell_type": "code",
   "execution_count": 68,
   "metadata": {},
   "outputs": [],
   "source": [
    "var_reg_2_ssh_FMA13_min05_K = rmse_var_reg_2_ssh_FMA13_all_s_K[1::].min() + (rmse_var_reg_2_ssh_FMA13_all_s_K[1::].min() * 0.05)\n",
    "var_reg_2_ssh_FMA13_min05_inds_K = np.where(rmse_var_reg_2_ssh_FMA13_all_s_K[1::] < var_reg_2_ssh_FMA13_min05_K)\n"
   ]
  },
  {
   "cell_type": "code",
   "execution_count": 69,
   "metadata": {},
   "outputs": [],
   "source": [
    "var_reg_2_gra_FMA13_min05_K = rmse_var_reg_2_gra_FMA13_all_s_K[1::].min() + (rmse_var_reg_2_gra_FMA13_all_s_K[1::].min() * 0.05)\n",
    "var_reg_2_gra_FMA13_min05_inds_K = np.where(rmse_var_reg_2_gra_FMA13_all_s_K[1::] < var_reg_2_gra_FMA13_min05_K)\n"
   ]
  },
  {
   "cell_type": "code",
   "execution_count": 70,
   "metadata": {},
   "outputs": [],
   "source": [
    "var_reg_2_lap_FMA13_min05_K = rmse_var_reg_2_lap_FMA13_all_s_K[1::].min() + (rmse_var_reg_2_lap_FMA13_all_s_K[1::].min() * 0.05)\n",
    "var_reg_2_lap_FMA13_min05_inds_K = np.where(rmse_var_reg_2_lap_FMA13_all_s_K[1::] < var_reg_2_lap_FMA13_min05_K)\n"
   ]
  },
  {
   "cell_type": "markdown",
   "metadata": {},
   "source": [
    "* JAS13:"
   ]
  },
  {
   "cell_type": "code",
   "execution_count": 71,
   "metadata": {},
   "outputs": [],
   "source": [
    "var_reg_2_ssh_JAS13_min05_K = rmse_var_reg_2_ssh_JAS13_all_s_K[1::].min() + (rmse_var_reg_2_ssh_JAS13_all_s_K[1::].min() * 0.05)\n",
    "var_reg_2_ssh_JAS13_min05_inds_K = np.where(rmse_var_reg_2_ssh_JAS13_all_s_K[1::] < var_reg_2_ssh_JAS13_min05_K)\n"
   ]
  },
  {
   "cell_type": "code",
   "execution_count": 72,
   "metadata": {},
   "outputs": [],
   "source": [
    "var_reg_2_gra_JAS13_min05_K = rmse_var_reg_2_gra_JAS13_all_s_K[1::].min() + (rmse_var_reg_2_gra_JAS13_all_s_K[1::].min() * 0.05)\n",
    "var_reg_2_gra_JAS13_min05_inds_K = np.where(rmse_var_reg_2_gra_JAS13_all_s_K[1::] < var_reg_2_gra_JAS13_min05_K)\n"
   ]
  },
  {
   "cell_type": "code",
   "execution_count": 73,
   "metadata": {},
   "outputs": [],
   "source": [
    "var_reg_2_lap_JAS13_min05_K = rmse_var_reg_2_lap_JAS13_all_s_K[1::].min() + (rmse_var_reg_2_lap_JAS13_all_s_K[1::].min() * 0.05)\n",
    "var_reg_2_lap_JAS13_min05_inds_K = np.where(rmse_var_reg_2_lap_JAS13_all_s_K[1::] < var_reg_2_lap_JAS13_min05_K)\n"
   ]
  },
  {
   "cell_type": "markdown",
   "metadata": {},
   "source": [
    "* All JAS12:"
   ]
  },
  {
   "cell_type": "code",
   "execution_count": 74,
   "metadata": {},
   "outputs": [],
   "source": [
    "var_reg_2_ssh_JAS12_min05 = rmse_var_reg_2_ssh_JAS12_all_s[1::].min() + (rmse_var_reg_2_ssh_JAS12_all_s[1::].min() * 0.05)\n",
    "var_reg_2_ssh_JAS12_min05_inds = np.where(rmse_var_reg_2_ssh_JAS12_all_s[1::] < var_reg_2_ssh_JAS12_min05)\n"
   ]
  },
  {
   "cell_type": "code",
   "execution_count": 75,
   "metadata": {},
   "outputs": [],
   "source": [
    "var_reg_2_gra_JAS12_min05 = rmse_var_reg_2_gra_JAS12_all_s[1::].min() + (rmse_var_reg_2_gra_JAS12_all_s[1::].min() * 0.05)\n",
    "var_reg_2_gra_JAS12_min05_inds = np.where(rmse_var_reg_2_gra_JAS12_all_s[1::] < var_reg_2_gra_JAS12_min05)\n"
   ]
  },
  {
   "cell_type": "code",
   "execution_count": 76,
   "metadata": {},
   "outputs": [],
   "source": [
    "var_reg_2_lap_JAS12_min05 = rmse_var_reg_2_lap_JAS12_all_s[1::].min() + (rmse_var_reg_2_lap_JAS12_all_s[1::].min() * 0.05)\n",
    "var_reg_2_lap_JAS12_min05_inds = np.where(rmse_var_reg_2_lap_JAS12_all_s[1::] < var_reg_2_lap_JAS12_min05)\n"
   ]
  },
  {
   "cell_type": "markdown",
   "metadata": {},
   "source": [
    "* FMA13:"
   ]
  },
  {
   "cell_type": "code",
   "execution_count": 77,
   "metadata": {},
   "outputs": [],
   "source": [
    "var_reg_2_ssh_FMA13_min05 = rmse_var_reg_2_ssh_FMA13_all_s[1::].min() + (rmse_var_reg_2_ssh_FMA13_all_s[1::].min() * 0.05)\n",
    "var_reg_2_ssh_FMA13_min05_inds = np.where(rmse_var_reg_2_ssh_FMA13_all_s[1::] < var_reg_2_ssh_FMA13_min05)\n"
   ]
  },
  {
   "cell_type": "code",
   "execution_count": 78,
   "metadata": {},
   "outputs": [],
   "source": [
    "var_reg_2_gra_FMA13_min05 = rmse_var_reg_2_gra_FMA13_all_s[1::].min() + (rmse_var_reg_2_gra_FMA13_all_s[1::].min() * 0.05)\n",
    "var_reg_2_gra_FMA13_min05_inds = np.where(rmse_var_reg_2_gra_FMA13_all_s[1::] < var_reg_2_gra_FMA13_min05)\n"
   ]
  },
  {
   "cell_type": "code",
   "execution_count": 79,
   "metadata": {},
   "outputs": [],
   "source": [
    "var_reg_2_lap_FMA13_min05 = rmse_var_reg_2_lap_FMA13_all_s[1::].min() + (rmse_var_reg_2_lap_FMA13_all_s[1::].min() * 0.05)\n",
    "var_reg_2_lap_FMA13_min05_inds = np.where(rmse_var_reg_2_lap_FMA13_all_s[1::] < var_reg_2_lap_FMA13_min05)\n"
   ]
  },
  {
   "cell_type": "markdown",
   "metadata": {},
   "source": [
    "* JAS13:"
   ]
  },
  {
   "cell_type": "code",
   "execution_count": 80,
   "metadata": {},
   "outputs": [],
   "source": [
    "var_reg_2_ssh_JAS13_min05 = rmse_var_reg_2_ssh_JAS13_all_s[1::].min() + (rmse_var_reg_2_ssh_JAS13_all_s[1::].min() * 0.05)\n",
    "var_reg_2_ssh_JAS13_min05_inds = np.where(rmse_var_reg_2_ssh_JAS13_all_s[1::] < var_reg_2_ssh_JAS13_min05)\n"
   ]
  },
  {
   "cell_type": "code",
   "execution_count": 81,
   "metadata": {},
   "outputs": [],
   "source": [
    "var_reg_2_gra_JAS13_min05 = rmse_var_reg_2_gra_JAS13_all_s[1::].min() + (rmse_var_reg_2_gra_JAS13_all_s[1::].min() * 0.05)\n",
    "var_reg_2_gra_JAS13_min05_inds = np.where(rmse_var_reg_2_gra_JAS13_all_s[1::] < var_reg_2_gra_JAS13_min05)\n"
   ]
  },
  {
   "cell_type": "code",
   "execution_count": 82,
   "metadata": {},
   "outputs": [],
   "source": [
    "var_reg_2_lap_JAS13_min05 = rmse_var_reg_2_lap_JAS13_all_s[1::].min() + (rmse_var_reg_2_lap_JAS13_all_s[1::].min() * 0.05)\n",
    "var_reg_2_lap_JAS13_min05_inds = np.where(rmse_var_reg_2_lap_JAS13_all_s[1::] < var_reg_2_lap_JAS13_min05)\n"
   ]
  },
  {
   "cell_type": "markdown",
   "metadata": {},
   "source": [
    "# Plot:"
   ]
  },
  {
   "cell_type": "code",
   "execution_count": 85,
   "metadata": {},
   "outputs": [
    {
     "data": {
      "image/png": "[encoded data removed]",
      "text/plain": [
       "<Figure size 320x1200 with 4 Axes>"
      ]
     },
     "metadata": {
      "needs_background": "light"
     },
     "output_type": "display_data"
    }
   ],
   "source": [
    "fig = plt.figure(figsize=(4, 15)) # (w,h)\n",
    "fig.patch.set_facecolor('None')\n",
    "\n",
    "#################################################\n",
    "\n",
    "axs = plt.subplot(411)\n",
    "axv = plt.subplot(412)\n",
    "axr = plt.subplot(413)\n",
    "axm = plt.subplot(414)\n",
    "\n",
    "# KaRIn:\n",
    "axs.semilogx(lambdas_pd2_K[1::], rmse_var_reg_2_ssh_JAS12_all_s_K[1::], '-r', label='JAS12', linewidth=3, zorder=-3, alpha=.7)\n",
    "axs.semilogx(lambdas_pd2_K[1::], rmse_var_reg_2_ssh_FMA13_all_s_K[1::], '-b', label='FMA13', linewidth=3, zorder=-2, alpha=.7)\n",
    "axs.semilogx(lambdas_pd2_K[1::], rmse_var_reg_2_ssh_JAS13_all_s_K[1::], '-k', label='JAS13', linewidth=3, zorder=-1, alpha=.7)\n",
    "axs.legend(loc=\"center left\")\n",
    "\n",
    "axs.errorbar(lambdas_pd2_K[1::][np.argmin(rmse_var_reg_2_ssh_JAS12_all_s_K[1::])], rmse_var_reg_2_ssh_JAS12_all_s_K[1::].min(), xerr=[[lambdas_pd2_K[1::][np.argmin(rmse_var_reg_2_ssh_JAS12_all_s_K[1::])] - lambdas_pd2_K[1::][var_reg_2_ssh_JAS12_min05_inds_K].min()]\n",
    "             , [lambdas_pd2_K[1::][var_reg_2_ssh_JAS12_min05_inds_K].max() - lambdas_pd2_K[1::][np.argmin(rmse_var_reg_2_ssh_JAS12_all_s_K[1::])]]]\n",
    "             , fmt='r')\n",
    "axs.errorbar(lambdas_pd2_K[1::][np.argmin(rmse_var_reg_2_ssh_FMA13_all_s_K[1::])], rmse_var_reg_2_ssh_FMA13_all_s_K[1::].min(), xerr=[[lambdas_pd2_K[1::][np.argmin(rmse_var_reg_2_ssh_FMA13_all_s_K[1::])] - lambdas_pd2_K[1::][var_reg_2_ssh_FMA13_min05_inds_K].min()]\n",
    "             , [lambdas_pd2_K[1::][var_reg_2_ssh_FMA13_min05_inds_K].max() - lambdas_pd2_K[1::][np.argmin(rmse_var_reg_2_ssh_FMA13_all_s_K[1::])]]]\n",
    "             , fmt='b')\n",
    "axs.errorbar(lambdas_pd2_K[1::][np.argmin(rmse_var_reg_2_ssh_JAS13_all_s_K[1::])], rmse_var_reg_2_ssh_JAS13_all_s_K[1::].min(), xerr=[[lambdas_pd2_K[1::][np.argmin(rmse_var_reg_2_ssh_JAS13_all_s_K[1::])] - lambdas_pd2_K[1::][var_reg_2_ssh_JAS13_min05_inds_K].min()]\n",
    "             , [lambdas_pd2_K[1::][var_reg_2_ssh_JAS13_min05_inds_K].max() - lambdas_pd2_K[1::][np.argmin(rmse_var_reg_2_ssh_JAS13_all_s_K[1::])]]]\n",
    "             , fmt='k')\n",
    "\n",
    "axv.semilogx(lambdas_pd2_K[1::], rmse_var_reg_2_gra_JAS12_all_s_K[1::], '-r', label='JAS12', linewidth=3, zorder=-3, alpha=.7)\n",
    "axv.semilogx(lambdas_pd2_K[1::], rmse_var_reg_2_gra_FMA13_all_s_K[1::], '-b', label='FMA13', linewidth=3, zorder=-2, alpha=.7)\n",
    "axv.semilogx(lambdas_pd2_K[1::], rmse_var_reg_2_gra_JAS13_all_s_K[1::], '-k', label='JAS13', linewidth=3, zorder=-1, alpha=.7)\n",
    "\n",
    "axv.errorbar(lambdas_pd2_K[1::][np.argmin(rmse_var_reg_2_gra_JAS12_all_s_K[1::])], rmse_var_reg_2_gra_JAS12_all_s_K[1::].min(), xerr=[[lambdas_pd2_K[1::][np.argmin(rmse_var_reg_2_gra_JAS12_all_s_K[1::])] - lambdas_pd2_K[1::][var_reg_2_gra_JAS12_min05_inds_K].min()]\n",
    "             , [lambdas_pd2_K[1::][var_reg_2_gra_JAS12_min05_inds_K].max() - lambdas_pd2_K[1::][np.argmin(rmse_var_reg_2_gra_JAS12_all_s_K[1::])]]]\n",
    "             , fmt='r')\n",
    "axv.errorbar(lambdas_pd2_K[1::][np.argmin(rmse_var_reg_2_gra_FMA13_all_s_K[1::])], rmse_var_reg_2_gra_FMA13_all_s_K[1::].min(), xerr=[[lambdas_pd2_K[1::][np.argmin(rmse_var_reg_2_gra_FMA13_all_s_K[1::])] - lambdas_pd2_K[1::][var_reg_2_gra_FMA13_min05_inds_K].min()]\n",
    "             , [lambdas_pd2_K[1::][var_reg_2_gra_FMA13_min05_inds_K].max() - lambdas_pd2_K[1::][np.argmin(rmse_var_reg_2_gra_FMA13_all_s_K[1::])]]]\n",
    "             , fmt='b')\n",
    "axv.errorbar(lambdas_pd2_K[1::][np.argmin(rmse_var_reg_2_gra_JAS13_all_s_K[1::])], rmse_var_reg_2_gra_JAS13_all_s_K[1::].min(), xerr=[[lambdas_pd2_K[1::][np.argmin(rmse_var_reg_2_gra_JAS13_all_s_K[1::])] - lambdas_pd2_K[1::][var_reg_2_gra_JAS13_min05_inds_K].min()]\n",
    "             , [lambdas_pd2_K[1::][var_reg_2_gra_JAS13_min05_inds_K].max() - lambdas_pd2_K[1::][np.argmin(rmse_var_reg_2_gra_JAS13_all_s_K[1::])]]]\n",
    "             , fmt='k')\n",
    "\n",
    "axr.semilogx(lambdas_pd2_K[1::], rmse_var_reg_2_lap_JAS12_all_s_K[1::], '-r', label='JAS12', linewidth=3, zorder=-3, alpha=.7)\n",
    "axr.semilogx(lambdas_pd2_K[1::], rmse_var_reg_2_lap_FMA13_all_s_K[1::], '-b', label='FMA13', linewidth=3, zorder=-2, alpha=.7)\n",
    "axr.semilogx(lambdas_pd2_K[1::], rmse_var_reg_2_lap_JAS13_all_s_K[1::], '-k', label='JAS13', linewidth=3, zorder=-1, alpha=.7)\n",
    "\n",
    "axr.errorbar(lambdas_pd2_K[1::][np.argmin(rmse_var_reg_2_lap_JAS12_all_s_K[1::])], rmse_var_reg_2_lap_JAS12_all_s_K[1::].min(), xerr=[[lambdas_pd2_K[1::][np.argmin(rmse_var_reg_2_lap_JAS12_all_s_K[1::])] - lambdas_pd2_K[1::][var_reg_2_lap_JAS12_min05_inds_K].min()]\n",
    "             , [lambdas_pd2_K[1::][var_reg_2_lap_JAS12_min05_inds_K].max() - lambdas_pd2_K[1::][np.argmin(rmse_var_reg_2_lap_JAS12_all_s_K[1::])]]]\n",
    "             , fmt='r')\n",
    "axr.errorbar(lambdas_pd2_K[1::][np.argmin(rmse_var_reg_2_lap_FMA13_all_s_K[1::])], rmse_var_reg_2_lap_FMA13_all_s_K[1::].min(), xerr=[[lambdas_pd2_K[1::][np.argmin(rmse_var_reg_2_lap_FMA13_all_s_K[1::])] - lambdas_pd2_K[1::][var_reg_2_lap_FMA13_min05_inds_K].min()]\n",
    "             , [lambdas_pd2_K[1::][var_reg_2_lap_FMA13_min05_inds_K].max() - lambdas_pd2_K[1::][np.argmin(rmse_var_reg_2_lap_FMA13_all_s_K[1::])]]]\n",
    "             , fmt='b')\n",
    "axr.errorbar(lambdas_pd2_K[1::][np.argmin(rmse_var_reg_2_lap_JAS13_all_s_K[1::])], rmse_var_reg_2_lap_JAS13_all_s_K[1::].min(), xerr=[[lambdas_pd2_K[1::][np.argmin(rmse_var_reg_2_lap_JAS13_all_s_K[1::])] - lambdas_pd2_K[1::][var_reg_2_lap_JAS13_min05_inds_K].min()]\n",
    "             , [lambdas_pd2_K[1::][var_reg_2_lap_JAS13_min05_inds_K].max() - lambdas_pd2_K[1::][np.argmin(rmse_var_reg_2_lap_JAS13_all_s_K[1::])]]]\n",
    "             , fmt='k')\n",
    "\n",
    "axm.semilogx(MSR_varreg2_K.f.params, MSR_varreg2_K.f.MSR_JAS12, '-r', label='KaRIn', linewidth=3, alpha=.7)\n",
    "axm.semilogx(MSR_varreg2_K.f.params, MSR_varreg2_K.f.MSR_FMA13, '-b', linewidth=3, alpha=.7)\n",
    "axm.semilogx(MSR_varreg2_K.f.params, MSR_varreg2_K.f.MSR_JAS13, '-k', linewidth=3, alpha=.7)\n",
    "\n",
    "# All: \n",
    "axs.semilogx(lambdas_pd2[1::], rmse_var_reg_2_ssh_JAS12_all_s[1::], '--r', label='JAS12', linewidth=3, zorder=-6, alpha=.7)\n",
    "axs.semilogx(lambdas_pd2[1::], rmse_var_reg_2_ssh_FMA13_all_s[1::], '--b', label='FMA13', linewidth=3, zorder=-5, alpha=.7)\n",
    "axs.semilogx(lambdas_pd2[1::], rmse_var_reg_2_ssh_JAS13_all_s[1::], '--k', label='JAS13', linewidth=3, zorder=-4, alpha=.7)\n",
    "\n",
    "eb1 = axs.errorbar(lambdas_pd2[1::][np.argmin(rmse_var_reg_2_ssh_JAS12_all_s[1::])], rmse_var_reg_2_ssh_JAS12_all_s[1::].min(), xerr=[[lambdas_pd2[1::][np.argmin(rmse_var_reg_2_ssh_JAS12_all_s[1::])] - lambdas_pd2[1::][var_reg_2_ssh_JAS12_min05_inds].min()]\n",
    "             , [lambdas_pd2[1::][var_reg_2_ssh_JAS12_min05_inds].max() - lambdas_pd2[1::][np.argmin(rmse_var_reg_2_ssh_JAS12_all_s[1::])]]]\n",
    "             , fmt='r', label='JAS12 SSH')\n",
    "eb1[-1][0].set_linestyle('--')\n",
    "eb1 = axs.errorbar(lambdas_pd2[1::][np.argmin(rmse_var_reg_2_ssh_FMA13_all_s[1::])], rmse_var_reg_2_ssh_FMA13_all_s[1::].min(), xerr=[[lambdas_pd2[1::][np.argmin(rmse_var_reg_2_ssh_FMA13_all_s[1::])] - lambdas_pd2[1::][var_reg_2_ssh_FMA13_min05_inds].min()]\n",
    "             , [lambdas_pd2[1::][var_reg_2_ssh_FMA13_min05_inds].max() - lambdas_pd2[1::][np.argmin(rmse_var_reg_2_ssh_FMA13_all_s[1::])]]]\n",
    "             , fmt='b')\n",
    "eb1[-1][0].set_linestyle('--')\n",
    "eb1 = axs.errorbar(lambdas_pd2[1::][np.argmin(rmse_var_reg_2_ssh_JAS13_all_s[1::])], rmse_var_reg_2_ssh_JAS13_all_s[1::].min(), xerr=[[lambdas_pd2[1::][np.argmin(rmse_var_reg_2_ssh_JAS13_all_s[1::])] - lambdas_pd2[1::][var_reg_2_ssh_JAS13_min05_inds].min()]\n",
    "             , [lambdas_pd2[1::][var_reg_2_ssh_JAS13_min05_inds].max() - lambdas_pd2[1::][np.argmin(rmse_var_reg_2_ssh_JAS13_all_s[1::])]]]\n",
    "             , fmt='k')\n",
    "eb1[-1][0].set_linestyle('--')\n",
    "axs.set_xlim([0, lambdas_pd2[-1]+10])\n",
    "axs.set_ylim([0.00, 0.07]) #0.0015\n",
    "axs.set_ylabel('$SSH$ $RMSE$ $[m]$', size=16)\n",
    "axs.grid(b=True, which='major', linestyle='-')\n",
    "axs.grid(b=True, which='minor', linestyle='-', color='gray', alpha=0.5)\n",
    "axs.ticklabel_format(style='sci', axis='y', scilimits=(0,0))\n",
    "\n",
    "axv.semilogx(lambdas_pd2[1::], rmse_var_reg_2_gra_JAS12_all_s[1::], '--r', label='JAS12', linewidth=3, zorder=-6, alpha=.7)\n",
    "axv.semilogx(lambdas_pd2[1::], rmse_var_reg_2_gra_FMA13_all_s[1::], '--b', label='FMA13', linewidth=3, zorder=-5, alpha=.7)\n",
    "axv.semilogx(lambdas_pd2[1::], rmse_var_reg_2_gra_JAS13_all_s[1::], '--k', label='JAS13', linewidth=3, zorder=-4, alpha=.7)\n",
    "\n",
    "eb1 = axv.errorbar(lambdas_pd2[1::][np.argmin(rmse_var_reg_2_gra_JAS12_all_s[1::])], rmse_var_reg_2_gra_JAS12_all_s[1::].min(), xerr=[[lambdas_pd2[1::][np.argmin(rmse_var_reg_2_gra_JAS12_all_s[1::])] - lambdas_pd2[1::][var_reg_2_gra_JAS12_min05_inds].min()]\n",
    "             , [lambdas_pd2[1::][var_reg_2_gra_JAS12_min05_inds].max() - lambdas_pd2[1::][np.argmin(rmse_var_reg_2_gra_JAS12_all_s[1::])]]]\n",
    "             , fmt='r')\n",
    "eb1[-1][0].set_linestyle('--')\n",
    "eb1 = axv.errorbar(lambdas_pd2[1::][np.argmin(rmse_var_reg_2_gra_FMA13_all_s[1::])], rmse_var_reg_2_gra_FMA13_all_s[1::].min(), xerr=[[lambdas_pd2[1::][np.argmin(rmse_var_reg_2_gra_FMA13_all_s[1::])] - lambdas_pd2[1::][var_reg_2_gra_FMA13_min05_inds].min()]\n",
    "             , [lambdas_pd2[1::][var_reg_2_gra_FMA13_min05_inds].max() - lambdas_pd2[1::][np.argmin(rmse_var_reg_2_gra_FMA13_all_s[1::])]]]\n",
    "             , fmt='b', label='FMA13 grad(SSH)')\n",
    "\n",
    "eb1[-1][0].set_linestyle('--')\n",
    "eb1 = axv.errorbar(lambdas_pd2[1::][np.argmin(rmse_var_reg_2_gra_JAS13_all_s[1::])], rmse_var_reg_2_gra_JAS13_all_s[1::].min(), xerr=[[lambdas_pd2[1::][np.argmin(rmse_var_reg_2_gra_JAS13_all_s[1::])] - lambdas_pd2[1::][var_reg_2_gra_JAS13_min05_inds].min()]\n",
    "             , [lambdas_pd2[1::][var_reg_2_gra_JAS13_min05_inds].max() - lambdas_pd2[1::][np.argmin(rmse_var_reg_2_gra_JAS13_all_s[1::])]]]\n",
    "             , fmt='k')\n",
    "eb1[-1][0].set_linestyle('--')\n",
    "\n",
    "axv.set_xlim([0, lambdas_pd2[-1]+10])\n",
    "axv.set_ylim([0.00, 0.000018])\n",
    "axv.set_ylabel(r'$|\\nabla$$SSH|$ $RMSE$ $[m]$', size=16) # \n",
    "axv.grid(b=True, which='major', linestyle='-')\n",
    "axv.grid(b=True, which='minor', linestyle='-', color='gray', alpha=0.5)\n",
    "axv.ticklabel_format(style='sci', axis='y', scilimits=(0,0))\n",
    "\n",
    "axr.semilogx(lambdas_pd2[1::], rmse_var_reg_2_lap_JAS12_all_s[1::], '--r', label='JAS12', linewidth=3, zorder=-6, alpha=.7)\n",
    "axr.semilogx(lambdas_pd2[1::], rmse_var_reg_2_lap_FMA13_all_s[1::], '--b', label='FMA13', linewidth=3, zorder=-5, alpha=.7)\n",
    "axr.semilogx(lambdas_pd2[1::], rmse_var_reg_2_lap_JAS13_all_s[1::], '--k', label='JAS13', linewidth=3, zorder=-4, alpha=.7)\n",
    "\n",
    "eb1 = axr.errorbar(lambdas_pd2[1::][np.argmin(rmse_var_reg_2_lap_JAS12_all_s[1::])], rmse_var_reg_2_lap_JAS12_all_s[1::].min(), xerr=[[lambdas_pd2[1::][np.argmin(rmse_var_reg_2_lap_JAS12_all_s[1::])] - lambdas_pd2[1::][var_reg_2_lap_JAS12_min05_inds].min()]\n",
    "             , [lambdas_pd2[1::][var_reg_2_lap_JAS12_min05_inds].max() - lambdas_pd2[1::][np.argmin(rmse_var_reg_2_lap_JAS12_all_s[1::])]]]\n",
    "             , fmt='r')\n",
    "eb1[-1][0].set_linestyle('--')\n",
    "eb1 = axr.errorbar(lambdas_pd2[1::][np.argmin(rmse_var_reg_2_lap_FMA13_all_s[1::])], rmse_var_reg_2_lap_FMA13_all_s[1::].min(), xerr=[[lambdas_pd2[1::][np.argmin(rmse_var_reg_2_lap_FMA13_all_s[1::])] - lambdas_pd2[1::][var_reg_2_lap_FMA13_min05_inds].min()]\n",
    "             , [lambdas_pd2[1::][var_reg_2_lap_FMA13_min05_inds].max() - lambdas_pd2[1::][np.argmin(rmse_var_reg_2_lap_FMA13_all_s[1::])]]]\n",
    "             , fmt='b')\n",
    "eb1[-1][0].set_linestyle('--')\n",
    "eb1 = axr.errorbar(lambdas_pd2[1::][np.argmin(rmse_var_reg_2_lap_JAS13_all_s[1::])], rmse_var_reg_2_lap_JAS13_all_s[1::].min(), xerr=[[lambdas_pd2[1::][np.argmin(rmse_var_reg_2_lap_JAS13_all_s[1::])] - lambdas_pd2[1::][var_reg_2_lap_JAS13_min05_inds].min()]\n",
    "             , [lambdas_pd2[1::][var_reg_2_lap_JAS13_min05_inds].max() - lambdas_pd2[1::][np.argmin(rmse_var_reg_2_lap_JAS13_all_s[1::])]]]\n",
    "             , fmt='k', label='JAS13 lap(SSH)')\n",
    "eb1[-1][0].set_linestyle('--')\n",
    "\n",
    "axr.set_xlim([0, lambdas_pd2[-1]+10])\n",
    "axr.set_ylim([0.0002, 0.0006])\n",
    "axr.grid(b=True, which='major', linestyle='-')\n",
    "axr.grid(b=True, which='minor', linestyle='-', color='gray', alpha=0.5)\n",
    "axr.set_ylabel('$\\Delta$$SSH$ $RMSE$ $[m]$', size=16)\n",
    "axr.ticklabel_format(style='sci', axis='y', scilimits=(0,0))\n",
    "\n",
    "axm.semilogx(MSR_varreg2_A.f.params, MSR_varreg2_A.f.MSR_JAS12, '--r', label='All', linewidth=3, alpha=.7)\n",
    "axm.semilogx(MSR_varreg2_A.f.params, MSR_varreg2_A.f.MSR_FMA13, '--b', linewidth=3, alpha=.7)\n",
    "axm.semilogx(MSR_varreg2_A.f.params, MSR_varreg2_A.f.MSR_JAS13, '--k', linewidth=3, alpha=.7)\n",
    "axm.set_xlim([MSR_varreg2_A.f.params.min(), MSR_varreg2_A.f.params.max()])\n",
    "axm.set_xlabel('$\\lambda_2$', size=16)\n",
    "axm.set_ylabel('$MSR$', size=16) \n",
    "axm.grid(b=True, which='major', linestyle='-')\n",
    "axm.grid(b=True, which='minor', linestyle='-', color='gray', alpha=0.5)\n",
    "plt.legend(loc=0)\n",
    "\n",
    "#################################################\n",
    "\n",
    "plt.tight_layout()\n",
    "plt.savefig('figures/scores_varreg2_K_A_ext_bars_seasons_5_P.png', dpi=300) #bbox=\n",
    "plt.show()"
   ]
  },
  {
   "cell_type": "code",
   "execution_count": null,
   "metadata": {},
   "outputs": [],
   "source": [
    "\n"
   ]
  }
 ],
 "metadata": {
  "anaconda-cloud": {},
  "kernelspec": {
   "display_name": "Python [default]",
   "language": "python",
   "name": "python2"
  },
  "language_info": {
   "codemirror_mode": {
    "name": "ipython",
    "version": 2
   },
   "file_extension": ".py",
   "mimetype": "text/x-python",
   "name": "python",
   "nbconvert_exporter": "python",
   "pygments_lexer": "ipython2",
   "version": "2.7.11"
  }
 },
 "nbformat": 4,
 "nbformat_minor": 2
}
