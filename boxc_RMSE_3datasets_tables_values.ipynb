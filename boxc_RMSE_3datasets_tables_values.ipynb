{
 "cells": [
  {
   "cell_type": "code",
   "execution_count": 3,
   "metadata": {},
   "outputs": [
    {
     "name": "stdout",
     "output_type": "stream",
     "text": [
      "Last update: Sun Jan 12 19:35:28 2020\n"
     ]
    }
   ],
   "source": [
    "import time\n",
    "\n",
    "print 'Last update:', time.ctime(time.time())  \n"
   ]
  },
  {
   "cell_type": "markdown",
   "metadata": {},
   "source": [
    "## Descriptions\n",
    "(adapted from: /Users/laura/PhD_private/develop/SWOT/Filtering/box_filtering/convergence_180521/tests/diagnostics/2019-02-21-gaus_RMSE_3datasets_PLOTS_K_ref.ipynb\n"
   ]
  },
  {
   "cell_type": "code",
   "execution_count": 4,
   "metadata": {},
   "outputs": [],
   "source": [
    "import numpy as np\n",
    "%matplotlib inline\n",
    "import sys"
   ]
  },
  {
   "cell_type": "code",
   "execution_count": 5,
   "metadata": {},
   "outputs": [],
   "source": [
    "# Defining the box size used (here referred to as lambdas): \n",
    "# (not saved in the RMSE npz)\n",
    "boxp1 = np.array((2, 3, 5, 10, 20, 50, 75, 100, 200))"
   ]
  },
  {
   "cell_type": "code",
   "execution_count": 6,
   "metadata": {},
   "outputs": [],
   "source": [
    "boxp2 = np.array((15, 25, 30, 35, 40, 45))"
   ]
  },
  {
   "cell_type": "code",
   "execution_count": 7,
   "metadata": {},
   "outputs": [],
   "source": [
    "lambdas = np.concatenate([boxp1, boxp2])"
   ]
  },
  {
   "cell_type": "code",
   "execution_count": 8,
   "metadata": {},
   "outputs": [],
   "source": [
    "lambdas_s = lambdas[lambdas.argsort()]"
   ]
  },
  {
   "cell_type": "markdown",
   "metadata": {},
   "source": [
    "# Just KaRIn noise scenario:"
   ]
  },
  {
   "cell_type": "markdown",
   "metadata": {},
   "source": [
    "# Loading the data:"
   ]
  },
  {
   "cell_type": "code",
   "execution_count": 9,
   "metadata": {},
   "outputs": [],
   "source": [
    "dJAS12 = np.load('/Users/laura/PhD_private/develop/SWOT/Filtering/box_filtering/convergence_180521/tests/diagnostics/rmse_boxc_JAS12_K.npz')\n",
    "dFMA13 = np.load('/Users/laura/PhD_private/develop/SWOT/Filtering/box_filtering/convergence_180521/tests/diagnostics/rmse_boxc_FMA13_K.npz')\n",
    "dJAS13 = np.load('/Users/laura/PhD_private/develop/SWOT/Filtering/box_filtering/convergence_180521/tests/diagnostics/rmse_boxc_JAS13_K.npz')\n",
    "\n",
    "dJAS12_r = np.load('/Users/laura/PhD_private/develop/SWOT/Filtering/box_filtering/convergence_180521/tests/diagnostics/rmse_boxc_JAS12_K_ref.npz')\n",
    "dFMA13_r = np.load('/Users/laura/PhD_private/develop/SWOT/Filtering/box_filtering/convergence_180521/tests/diagnostics/rmse_boxc_FMA13_K_ref.npz')\n",
    "dJAS13_r = np.load('/Users/laura/PhD_private/develop/SWOT/Filtering/box_filtering/convergence_180521/tests/diagnostics/rmse_boxc_JAS13_K_ref.npz')"
   ]
  },
  {
   "cell_type": "code",
   "execution_count": 10,
   "metadata": {},
   "outputs": [],
   "source": [
    "rmse_sshm_JAS12 = np.concatenate([dJAS12.f.rmse_sshm_JAS12, dJAS12_r.f.rmse_sshm_JAS12])\n",
    "rmse_sshm_FMA13 = np.concatenate([dFMA13.f.rmse_sshm_FMA13, dFMA13_r.f.rmse_sshm_FMA13])\n",
    "rmse_sshm_JAS13 = np.concatenate([dJAS13.f.rmse_sshm_JAS13, dJAS13_r.f.rmse_sshm_JAS13])"
   ]
  },
  {
   "cell_type": "code",
   "execution_count": 11,
   "metadata": {},
   "outputs": [],
   "source": [
    "rmse_gram_JAS12 = np.concatenate([dJAS12.f.rmse_gram_JAS12, dJAS12_r.f.rmse_gram_JAS12])\n",
    "rmse_gram_FMA13 = np.concatenate([dFMA13.f.rmse_gram_FMA13, dFMA13_r.f.rmse_gram_FMA13])\n",
    "rmse_gram_JAS13 = np.concatenate([dJAS13.f.rmse_gram_JAS13, dJAS13_r.f.rmse_gram_JAS13])"
   ]
  },
  {
   "cell_type": "code",
   "execution_count": 12,
   "metadata": {},
   "outputs": [],
   "source": [
    "rmse_lapm_JAS12 = np.concatenate([dJAS12.f.rmse_lapm_JAS12, dJAS12_r.f.rmse_lapm_JAS12])\n",
    "rmse_lapm_FMA13 = np.concatenate([dFMA13.f.rmse_lapm_FMA13, dFMA13_r.f.rmse_lapm_FMA13])\n",
    "rmse_lapm_JAS13 = np.concatenate([dJAS13.f.rmse_lapm_JAS13, dJAS13_r.f.rmse_lapm_JAS13])"
   ]
  },
  {
   "cell_type": "code",
   "execution_count": 13,
   "metadata": {},
   "outputs": [],
   "source": [
    "rmse_sshm_JAS12_s = rmse_sshm_JAS12[lambdas.argsort()]\n",
    "rmse_sshm_FMA13_s = rmse_sshm_FMA13[lambdas.argsort()]\n",
    "rmse_sshm_JAS13_s = rmse_sshm_JAS13[lambdas.argsort()]\n"
   ]
  },
  {
   "cell_type": "code",
   "execution_count": 14,
   "metadata": {},
   "outputs": [],
   "source": [
    "rmse_gram_JAS12_s = rmse_gram_JAS12[lambdas.argsort()]\n",
    "rmse_gram_FMA13_s = rmse_gram_FMA13[lambdas.argsort()]\n",
    "rmse_gram_JAS13_s = rmse_gram_JAS13[lambdas.argsort()]\n"
   ]
  },
  {
   "cell_type": "code",
   "execution_count": 15,
   "metadata": {},
   "outputs": [],
   "source": [
    "rmse_lapm_JAS12_s = rmse_lapm_JAS12[lambdas.argsort()]\n",
    "rmse_lapm_FMA13_s = rmse_lapm_FMA13[lambdas.argsort()]\n",
    "rmse_lapm_JAS13_s = rmse_lapm_JAS13[lambdas.argsort()]\n"
   ]
  },
  {
   "cell_type": "markdown",
   "metadata": {},
   "source": [
    "# Loading the RMSE of the original (non-filterd) SSH data (i.e. SSH_obs):"
   ]
  },
  {
   "cell_type": "code",
   "execution_count": 16,
   "metadata": {},
   "outputs": [],
   "source": [
    "dJAS12_orig = np.load('/Users/laura/PhD_private/develop/SWOT/Filtering/box_filtering/convergence_180521/tests/diagnostics/rmse_orig_JAS12_K.npz')\n",
    "dFMA13_orig = np.load('/Users/laura/PhD_private/develop/SWOT/Filtering/box_filtering/convergence_180521/tests/diagnostics/rmse_orig_FMA13_K.npz')\n",
    "dJAS13_orig = np.load('/Users/laura/PhD_private/develop/SWOT/Filtering/box_filtering/convergence_180521/tests/diagnostics/rmse_orig_JAS13_K.npz')"
   ]
  },
  {
   "cell_type": "markdown",
   "metadata": {},
   "source": [
    "# Minimum point:"
   ]
  },
  {
   "cell_type": "markdown",
   "metadata": {},
   "source": [
    "* ssh:"
   ]
  },
  {
   "cell_type": "code",
   "execution_count": 17,
   "metadata": {},
   "outputs": [
    {
     "name": "stdout",
     "output_type": "stream",
     "text": [
      "15\n",
      "10\n",
      "15\n"
     ]
    }
   ],
   "source": [
    "print lambdas_s[np.argmin(rmse_sshm_JAS12_s)]\n",
    "print lambdas_s[np.argmin(rmse_sshm_FMA13_s)]\n",
    "print lambdas_s[np.argmin(rmse_sshm_JAS13_s)]"
   ]
  },
  {
   "cell_type": "code",
   "execution_count": 18,
   "metadata": {},
   "outputs": [
    {
     "name": "stdout",
     "output_type": "stream",
     "text": [
      "0.0030089058378511527\n",
      "0.0036347255380347757\n",
      "0.002897186889906225\n"
     ]
    }
   ],
   "source": [
    "print rmse_sshm_JAS12_s.min()\n",
    "print rmse_sshm_FMA13_s.min()\n",
    "print rmse_sshm_JAS13_s.min()"
   ]
  },
  {
   "cell_type": "code",
   "execution_count": 19,
   "metadata": {},
   "outputs": [
    {
     "name": "stdout",
     "output_type": "stream",
     "text": [
      "12.43\n",
      "15.04\n",
      "11.98\n"
     ]
    }
   ],
   "source": [
    "print np.round(((rmse_sshm_JAS12_s/dJAS12_orig.f.rmse_ssh_m_0_JAS12).min())*100, 2)\n",
    "print np.round(((rmse_sshm_FMA13_s/dFMA13_orig.f.rmse_ssh_m_0_FMA13).min())*100, 2)\n",
    "print np.round(((rmse_sshm_JAS13_s/dJAS13_orig.f.rmse_ssh_m_0_JAS13).min())*100, 2)"
   ]
  },
  {
   "cell_type": "markdown",
   "metadata": {},
   "source": [
    "# --> values shown in table 1"
   ]
  },
  {
   "cell_type": "code",
   "execution_count": 20,
   "metadata": {},
   "outputs": [
    {
     "name": "stdout",
     "output_type": "stream",
     "text": [
      "15\n",
      "10\n",
      "15\n"
     ]
    }
   ],
   "source": [
    "print lambdas_s[np.argmin(rmse_sshm_JAS12_s/dJAS12_orig.f.rmse_ssh_m_0_JAS12)]\n",
    "print lambdas_s[np.argmin(rmse_sshm_FMA13_s/dFMA13_orig.f.rmse_ssh_m_0_FMA13)]\n",
    "print lambdas_s[np.argmin(rmse_sshm_JAS13_s/dJAS13_orig.f.rmse_ssh_m_0_JAS13)]"
   ]
  },
  {
   "cell_type": "markdown",
   "metadata": {},
   "source": [
    "* gra:"
   ]
  },
  {
   "cell_type": "code",
   "execution_count": 21,
   "metadata": {},
   "outputs": [
    {
     "name": "stdout",
     "output_type": "stream",
     "text": [
      "20\n",
      "15\n",
      "20\n"
     ]
    }
   ],
   "source": [
    "print lambdas_s[np.argmin(rmse_gram_JAS12_s)]\n",
    "print lambdas_s[np.argmin(rmse_gram_FMA13_s)]\n",
    "print lambdas_s[np.argmin(rmse_gram_JAS13_s)]"
   ]
  },
  {
   "cell_type": "code",
   "execution_count": 22,
   "metadata": {},
   "outputs": [
    {
     "name": "stdout",
     "output_type": "stream",
     "text": [
      "3.799763026770858e-06\n",
      "7.131881001254644e-06\n",
      "3.4643510268762245e-06\n"
     ]
    }
   ],
   "source": [
    "print rmse_gram_JAS12_s.min()\n",
    "print rmse_gram_FMA13_s.min()\n",
    "print rmse_gram_JAS13_s.min()"
   ]
  },
  {
   "cell_type": "code",
   "execution_count": 23,
   "metadata": {},
   "outputs": [
    {
     "name": "stdout",
     "output_type": "stream",
     "text": [
      "0.094\n",
      "0.177\n",
      "0.086\n"
     ]
    }
   ],
   "source": [
    "print np.round(((rmse_gram_JAS12_s/dJAS12_orig.f.rmse_gra_m_0_JAS12).min())*100, 3)\n",
    "print np.round(((rmse_gram_FMA13_s/dFMA13_orig.f.rmse_gra_m_0_FMA13).min())*100, 3)\n",
    "print np.round(((rmse_gram_JAS13_s/dJAS13_orig.f.rmse_gra_m_0_JAS13).min())*100, 3)"
   ]
  },
  {
   "cell_type": "markdown",
   "metadata": {},
   "source": [
    "# --> values shown in table 1"
   ]
  },
  {
   "cell_type": "markdown",
   "metadata": {},
   "source": [
    "* Lap:"
   ]
  },
  {
   "cell_type": "code",
   "execution_count": 24,
   "metadata": {},
   "outputs": [
    {
     "name": "stdout",
     "output_type": "stream",
     "text": [
      "200\n",
      "200\n",
      "200\n"
     ]
    }
   ],
   "source": [
    "print lambdas_s[np.argmin(rmse_lapm_JAS12_s)]\n",
    "print lambdas_s[np.argmin(rmse_lapm_FMA13_s)]\n",
    "print lambdas_s[np.argmin(rmse_lapm_JAS13_s)]"
   ]
  },
  {
   "cell_type": "code",
   "execution_count": 25,
   "metadata": {},
   "outputs": [
    {
     "name": "stdout",
     "output_type": "stream",
     "text": [
      "0.00031733339469616864\n",
      "0.0005384341829934155\n",
      "0.000342583881698884\n"
     ]
    }
   ],
   "source": [
    "print rmse_lapm_JAS12_s.min()\n",
    "print rmse_lapm_FMA13_s.min()\n",
    "print rmse_lapm_JAS13_s.min()"
   ]
  },
  {
   "cell_type": "code",
   "execution_count": 26,
   "metadata": {},
   "outputs": [
    {
     "name": "stdout",
     "output_type": "stream",
     "text": [
      "0.3\n",
      "0.511\n",
      "0.326\n"
     ]
    }
   ],
   "source": [
    "print np.round(((rmse_lapm_JAS12_s/dJAS12_orig.f.rmse_lap_m_0_JAS12).min())*100, 3)\n",
    "print np.round(((rmse_lapm_FMA13_s/dFMA13_orig.f.rmse_lap_m_0_FMA13).min())*100, 3)\n",
    "print np.round(((rmse_lapm_JAS13_s/dJAS13_orig.f.rmse_lap_m_0_JAS13).min())*100, 3)"
   ]
  },
  {
   "cell_type": "markdown",
   "metadata": {},
   "source": [
    "# --> values shown in table 1"
   ]
  },
  {
   "cell_type": "markdown",
   "metadata": {},
   "source": [
    "# All noises scenario:"
   ]
  },
  {
   "cell_type": "markdown",
   "metadata": {},
   "source": [
    "# Loading the data:"
   ]
  },
  {
   "cell_type": "code",
   "execution_count": 27,
   "metadata": {},
   "outputs": [],
   "source": [
    "dJAS12 = np.load('/Users/laura/PhD_private/develop/SWOT/Filtering/box_filtering/convergence_180521/tests/diagnostics/rmse_boxc_JAS12.npz')\n",
    "dFMA13 = np.load('/Users/laura/PhD_private/develop/SWOT/Filtering/box_filtering/convergence_180521/tests/diagnostics/rmse_boxc_FMA13.npz')\n",
    "dJAS13 = np.load('/Users/laura/PhD_private/develop/SWOT/Filtering/box_filtering/convergence_180521/tests/diagnostics/rmse_boxc_JAS13.npz')\n",
    "\n",
    "dJAS12_r = np.load('/Users/laura/PhD_private/develop/SWOT/Filtering/box_filtering/convergence_180521/tests/diagnostics/rmse_boxc_JAS12_ref.npz')\n",
    "dFMA13_r = np.load('/Users/laura/PhD_private/develop/SWOT/Filtering/box_filtering/convergence_180521/tests/diagnostics/rmse_boxc_FMA13_ref.npz')\n",
    "dJAS13_r = np.load('/Users/laura/PhD_private/develop/SWOT/Filtering/box_filtering/convergence_180521/tests/diagnostics/rmse_boxc_JAS13_ref.npz')"
   ]
  },
  {
   "cell_type": "code",
   "execution_count": 28,
   "metadata": {},
   "outputs": [],
   "source": [
    "rmse_sshm_JAS12 = np.concatenate([dJAS12.f.rmse_sshm_JAS12, dJAS12_r.f.rmse_sshm_JAS12])\n",
    "rmse_sshm_FMA13 = np.concatenate([dFMA13.f.rmse_sshm_FMA13, dFMA13_r.f.rmse_sshm_FMA13])\n",
    "rmse_sshm_JAS13 = np.concatenate([dJAS13.f.rmse_sshm_JAS13, dJAS13_r.f.rmse_sshm_JAS13])"
   ]
  },
  {
   "cell_type": "code",
   "execution_count": 29,
   "metadata": {},
   "outputs": [],
   "source": [
    "rmse_gram_JAS12 = np.concatenate([dJAS12.f.rmse_gram_JAS12, dJAS12_r.f.rmse_gram_JAS12])\n",
    "rmse_gram_FMA13 = np.concatenate([dFMA13.f.rmse_gram_FMA13, dFMA13_r.f.rmse_gram_FMA13])\n",
    "rmse_gram_JAS13 = np.concatenate([dJAS13.f.rmse_gram_JAS13, dJAS13_r.f.rmse_gram_JAS13])"
   ]
  },
  {
   "cell_type": "code",
   "execution_count": 30,
   "metadata": {},
   "outputs": [],
   "source": [
    "rmse_lapm_JAS12 = np.concatenate([dJAS12.f.rmse_lapm_JAS12, dJAS12_r.f.rmse_lapm_JAS12])\n",
    "rmse_lapm_FMA13 = np.concatenate([dFMA13.f.rmse_lapm_FMA13, dFMA13_r.f.rmse_lapm_FMA13])\n",
    "rmse_lapm_JAS13 = np.concatenate([dJAS13.f.rmse_lapm_JAS13, dJAS13_r.f.rmse_lapm_JAS13])"
   ]
  },
  {
   "cell_type": "code",
   "execution_count": 31,
   "metadata": {},
   "outputs": [],
   "source": [
    "rmse_sshm_JAS12_s = rmse_sshm_JAS12[lambdas.argsort()]\n",
    "rmse_sshm_FMA13_s = rmse_sshm_FMA13[lambdas.argsort()]\n",
    "rmse_sshm_JAS13_s = rmse_sshm_JAS13[lambdas.argsort()]\n"
   ]
  },
  {
   "cell_type": "code",
   "execution_count": 32,
   "metadata": {},
   "outputs": [],
   "source": [
    "rmse_gram_JAS12_s = rmse_gram_JAS12[lambdas.argsort()]\n",
    "rmse_gram_FMA13_s = rmse_gram_FMA13[lambdas.argsort()]\n",
    "rmse_gram_JAS13_s = rmse_gram_JAS13[lambdas.argsort()]\n"
   ]
  },
  {
   "cell_type": "code",
   "execution_count": 33,
   "metadata": {},
   "outputs": [],
   "source": [
    "rmse_lapm_JAS12_s = rmse_lapm_JAS12[lambdas.argsort()]\n",
    "rmse_lapm_FMA13_s = rmse_lapm_FMA13[lambdas.argsort()]\n",
    "rmse_lapm_JAS13_s = rmse_lapm_JAS13[lambdas.argsort()]\n"
   ]
  },
  {
   "cell_type": "markdown",
   "metadata": {},
   "source": [
    "# Loading the RMSE of the original (non-filterd) SSH data (i.e. SSH_obs):"
   ]
  },
  {
   "cell_type": "code",
   "execution_count": 34,
   "metadata": {},
   "outputs": [],
   "source": [
    "dJAS12_orig = np.load('/Users/laura/PhD_private/develop/SWOT/Filtering/box_filtering/convergence_180521/tests/diagnostics/rmse_orig_JAS12.npz')\n",
    "dFMA13_orig = np.load('/Users/laura/PhD_private/develop/SWOT/Filtering/box_filtering/convergence_180521/tests/diagnostics/rmse_orig_FMA13.npz')\n",
    "dJAS13_orig = np.load('/Users/laura/PhD_private/develop/SWOT/Filtering/box_filtering/convergence_180521/tests/diagnostics/rmse_orig_JAS13.npz')"
   ]
  },
  {
   "cell_type": "markdown",
   "metadata": {},
   "source": [
    "# Minimum point:"
   ]
  },
  {
   "cell_type": "markdown",
   "metadata": {},
   "source": [
    "* ssh:"
   ]
  },
  {
   "cell_type": "code",
   "execution_count": 35,
   "metadata": {},
   "outputs": [
    {
     "name": "stdout",
     "output_type": "stream",
     "text": [
      "25\n",
      "15\n",
      "30\n"
     ]
    }
   ],
   "source": [
    "print lambdas_s[np.argmin(rmse_sshm_JAS12_s)]\n",
    "print lambdas_s[np.argmin(rmse_sshm_FMA13_s)]\n",
    "print lambdas_s[np.argmin(rmse_sshm_JAS13_s)]"
   ]
  },
  {
   "cell_type": "code",
   "execution_count": 36,
   "metadata": {},
   "outputs": [
    {
     "name": "stdout",
     "output_type": "stream",
     "text": [
      "0.0599105771503207\n",
      "0.05976140189953517\n",
      "0.05742421660204433\n"
     ]
    }
   ],
   "source": [
    "print rmse_sshm_JAS12_s.min()\n",
    "print rmse_sshm_FMA13_s.min()\n",
    "print rmse_sshm_JAS13_s.min()"
   ]
  },
  {
   "cell_type": "code",
   "execution_count": 37,
   "metadata": {},
   "outputs": [
    {
     "name": "stdout",
     "output_type": "stream",
     "text": [
      "90.31\n",
      "90.88\n",
      "89.73\n"
     ]
    }
   ],
   "source": [
    "print np.round(((rmse_sshm_JAS12_s/dJAS12_orig.f.rmse_ssh_m_0_JAS12).min())*100, 2)\n",
    "print np.round(((rmse_sshm_FMA13_s/dFMA13_orig.f.rmse_ssh_m_0_FMA13).min())*100, 2)\n",
    "print np.round(((rmse_sshm_JAS13_s/dJAS13_orig.f.rmse_ssh_m_0_JAS13).min())*100, 2)"
   ]
  },
  {
   "cell_type": "markdown",
   "metadata": {},
   "source": [
    "# --> values shown in table 2"
   ]
  },
  {
   "cell_type": "code",
   "execution_count": 38,
   "metadata": {},
   "outputs": [
    {
     "name": "stdout",
     "output_type": "stream",
     "text": [
      "25\n",
      "15\n",
      "30\n"
     ]
    }
   ],
   "source": [
    "print lambdas_s[np.argmin(rmse_sshm_JAS12_s/dJAS12_orig.f.rmse_ssh_m_0_JAS12)]\n",
    "print lambdas_s[np.argmin(rmse_sshm_FMA13_s/dFMA13_orig.f.rmse_ssh_m_0_FMA13)]\n",
    "print lambdas_s[np.argmin(rmse_sshm_JAS13_s/dJAS13_orig.f.rmse_ssh_m_0_JAS13)]"
   ]
  },
  {
   "cell_type": "markdown",
   "metadata": {},
   "source": [
    "* gra:"
   ]
  },
  {
   "cell_type": "code",
   "execution_count": 39,
   "metadata": {},
   "outputs": [
    {
     "name": "stdout",
     "output_type": "stream",
     "text": [
      "30\n",
      "15\n",
      "30\n"
     ]
    }
   ],
   "source": [
    "print lambdas_s[np.argmin(rmse_gram_JAS12_s)]\n",
    "print lambdas_s[np.argmin(rmse_gram_FMA13_s)]\n",
    "print lambdas_s[np.argmin(rmse_gram_JAS13_s)]"
   ]
  },
  {
   "cell_type": "code",
   "execution_count": 40,
   "metadata": {},
   "outputs": [
    {
     "name": "stdout",
     "output_type": "stream",
     "text": [
      "6.966732309534465e-06\n",
      "1.0157082794263859e-05\n",
      "5.562600059344368e-06\n"
     ]
    }
   ],
   "source": [
    "print rmse_gram_JAS12_s.min()\n",
    "print rmse_gram_FMA13_s.min()\n",
    "print rmse_gram_JAS13_s.min()"
   ]
  },
  {
   "cell_type": "code",
   "execution_count": 41,
   "metadata": {},
   "outputs": [
    {
     "name": "stdout",
     "output_type": "stream",
     "text": [
      "0.171\n",
      "0.25\n",
      "0.137\n"
     ]
    }
   ],
   "source": [
    "print np.round(((rmse_gram_JAS12_s/dJAS12_orig.f.rmse_gra_m_0_JAS12).min())*100, 3)\n",
    "print np.round(((rmse_gram_FMA13_s/dFMA13_orig.f.rmse_gra_m_0_FMA13).min())*100, 3)\n",
    "print np.round(((rmse_gram_JAS13_s/dJAS13_orig.f.rmse_gra_m_0_JAS13).min())*100, 3)"
   ]
  },
  {
   "cell_type": "markdown",
   "metadata": {},
   "source": [
    "# --> values shown in table 2"
   ]
  },
  {
   "cell_type": "markdown",
   "metadata": {},
   "source": [
    "* Lap:"
   ]
  },
  {
   "cell_type": "code",
   "execution_count": 42,
   "metadata": {},
   "outputs": [
    {
     "name": "stdout",
     "output_type": "stream",
     "text": [
      "200\n",
      "200\n",
      "200\n"
     ]
    }
   ],
   "source": [
    "print lambdas_s[np.argmin(rmse_lapm_JAS12_s)]\n",
    "print lambdas_s[np.argmin(rmse_lapm_FMA13_s)]\n",
    "print lambdas_s[np.argmin(rmse_lapm_JAS13_s)]"
   ]
  },
  {
   "cell_type": "code",
   "execution_count": 43,
   "metadata": {},
   "outputs": [
    {
     "name": "stdout",
     "output_type": "stream",
     "text": [
      "0.00032063433880668137\n",
      "0.0005406440083904579\n",
      "0.0003452392171253598\n"
     ]
    }
   ],
   "source": [
    "print rmse_lapm_JAS12_s.min()\n",
    "print rmse_lapm_FMA13_s.min()\n",
    "print rmse_lapm_JAS13_s.min()"
   ]
  },
  {
   "cell_type": "code",
   "execution_count": 44,
   "metadata": {},
   "outputs": [
    {
     "name": "stdout",
     "output_type": "stream",
     "text": [
      "0.303\n",
      "0.511\n",
      "0.328\n"
     ]
    }
   ],
   "source": [
    "print np.round(((rmse_lapm_JAS12_s/dJAS12_orig.f.rmse_lap_m_0_JAS12).min())*100, 3)\n",
    "print np.round(((rmse_lapm_FMA13_s/dFMA13_orig.f.rmse_lap_m_0_FMA13).min())*100, 3)\n",
    "print np.round(((rmse_lapm_JAS13_s/dJAS13_orig.f.rmse_lap_m_0_JAS13).min())*100, 3)"
   ]
  },
  {
   "cell_type": "markdown",
   "metadata": {},
   "source": [
    "# --> values shown in table 2"
   ]
  },
  {
   "cell_type": "code",
   "execution_count": null,
   "metadata": {},
   "outputs": [],
   "source": []
  }
 ],
 "metadata": {
  "anaconda-cloud": {},
  "kernelspec": {
   "display_name": "Python [default]",
   "language": "python",
   "name": "python2"
  },
  "language_info": {
   "codemirror_mode": {
    "name": "ipython",
    "version": 2
   },
   "file_extension": ".py",
   "mimetype": "text/x-python",
   "name": "python",
   "nbconvert_exporter": "python",
   "pygments_lexer": "ipython2",
   "version": "2.7.11"
  }
 },
 "nbformat": 4,
 "nbformat_minor": 2
}
