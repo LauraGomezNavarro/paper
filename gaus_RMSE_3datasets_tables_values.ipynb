{
 "cells": [
  {
   "cell_type": "code",
   "execution_count": 2,
   "metadata": {},
   "outputs": [
    {
     "name": "stdout",
     "output_type": "stream",
     "text": [
      "Last update: Sun Jan 12 18:09:52 2020\n"
     ]
    }
   ],
   "source": [
    "import time\n",
    "\n",
    "print 'Last update:', time.ctime(time.time())  \n"
   ]
  },
  {
   "cell_type": "markdown",
   "metadata": {},
   "source": [
    "## Descriptions\n",
    "(adapted from: /Users/laura/PhD_private/develop/SWOT/Filtering/box_filtering/convergence_180521/tests/diagnostics/2019-02-21-gaus_RMSE_3datasets_PLOTS_K_ref.ipynb\n"
   ]
  },
  {
   "cell_type": "code",
   "execution_count": 3,
   "metadata": {},
   "outputs": [],
   "source": [
    "import numpy as np\n",
    "%matplotlib inline\n",
    "import sys"
   ]
  },
  {
   "cell_type": "code",
   "execution_count": 9,
   "metadata": {},
   "outputs": [],
   "source": [
    "# Defining the sigmas used (here referred to as lambdas): \n",
    "# (not saved in the RMSE npz)\n",
    "lambdas = np.array((0.25, 0.63, 1.25, 2.50, 6.26, 12.50, 25., 50., 75., 100., 150., 200., 250., 300.\n",
    "                  , 2., 3.25,  4.,  4.75, 5.5, 7., 7.75, 8.5, 9.25, 10., 10.75, 11.5 ))"
   ]
  },
  {
   "cell_type": "code",
   "execution_count": 14,
   "metadata": {},
   "outputs": [],
   "source": [
    "lambdas_s = lambdas[lambdas.argsort()]"
   ]
  },
  {
   "cell_type": "markdown",
   "metadata": {},
   "source": [
    "# Just KaRIn noise scenario:"
   ]
  },
  {
   "cell_type": "markdown",
   "metadata": {},
   "source": [
    "# Loading the data:"
   ]
  },
  {
   "cell_type": "code",
   "execution_count": 5,
   "metadata": {},
   "outputs": [],
   "source": [
    "dJAS12 = np.load('/Users/laura/PhD_private/develop/SWOT/Filtering/box_filtering/convergence_180521/tests/diagnostics/rmse_gaus_JAS12_K.npz')\n",
    "dFMA13 = np.load('/Users/laura/PhD_private/develop/SWOT/Filtering/box_filtering/convergence_180521/tests/diagnostics/rmse_gaus_FMA13_K.npz')\n",
    "dJAS13 = np.load('/Users/laura/PhD_private/develop/SWOT/Filtering/box_filtering/convergence_180521/tests/diagnostics/rmse_gaus_JAS13_K.npz')\n",
    "\n",
    "dJAS12_r = np.load('/Users/laura/PhD_private/develop/SWOT/Filtering/box_filtering/convergence_180521/tests/diagnostics/rmse_gaus_JAS12_K_ref.npz')\n",
    "dFMA13_r = np.load('/Users/laura/PhD_private/develop/SWOT/Filtering/box_filtering/convergence_180521/tests/diagnostics/rmse_gaus_FMA13_K_ref.npz')\n",
    "dJAS13_r = np.load('/Users/laura/PhD_private/develop/SWOT/Filtering/box_filtering/convergence_180521/tests/diagnostics/rmse_gaus_JAS13_K_ref.npz')"
   ]
  },
  {
   "cell_type": "code",
   "execution_count": 11,
   "metadata": {},
   "outputs": [],
   "source": [
    "rmse_sshm_JAS12 = np.concatenate([dJAS12.f.rmse_sshm_JAS12, dJAS12_r.f.rmse_sshm_JAS12])\n",
    "rmse_sshm_FMA13 = np.concatenate([dFMA13.f.rmse_sshm_FMA13, dFMA13_r.f.rmse_sshm_FMA13])\n",
    "rmse_sshm_JAS13 = np.concatenate([dJAS13.f.rmse_sshm_JAS13, dJAS13_r.f.rmse_sshm_JAS13])"
   ]
  },
  {
   "cell_type": "code",
   "execution_count": 12,
   "metadata": {},
   "outputs": [],
   "source": [
    "rmse_gram_JAS12 = np.concatenate([dJAS12.f.rmse_gram_JAS12, dJAS12_r.f.rmse_gram_JAS12])\n",
    "rmse_gram_FMA13 = np.concatenate([dFMA13.f.rmse_gram_FMA13, dFMA13_r.f.rmse_gram_FMA13])\n",
    "rmse_gram_JAS13 = np.concatenate([dJAS13.f.rmse_gram_JAS13, dJAS13_r.f.rmse_gram_JAS13])"
   ]
  },
  {
   "cell_type": "code",
   "execution_count": 13,
   "metadata": {},
   "outputs": [],
   "source": [
    "rmse_lapm_JAS12 = np.concatenate([dJAS12.f.rmse_lapm_JAS12, dJAS12_r.f.rmse_lapm_JAS12])\n",
    "rmse_lapm_FMA13 = np.concatenate([dFMA13.f.rmse_lapm_FMA13, dFMA13_r.f.rmse_lapm_FMA13])\n",
    "rmse_lapm_JAS13 = np.concatenate([dJAS13.f.rmse_lapm_JAS13, dJAS13_r.f.rmse_lapm_JAS13])"
   ]
  },
  {
   "cell_type": "code",
   "execution_count": 14,
   "metadata": {},
   "outputs": [],
   "source": [
    "lambdas_s = lambdas[lambdas.argsort()]"
   ]
  },
  {
   "cell_type": "code",
   "execution_count": 15,
   "metadata": {},
   "outputs": [],
   "source": [
    "rmse_sshm_JAS12_s = rmse_sshm_JAS12[lambdas.argsort()]\n",
    "rmse_sshm_FMA13_s = rmse_sshm_FMA13[lambdas.argsort()]\n",
    "rmse_sshm_JAS13_s = rmse_sshm_JAS13[lambdas.argsort()]\n"
   ]
  },
  {
   "cell_type": "code",
   "execution_count": 16,
   "metadata": {},
   "outputs": [],
   "source": [
    "rmse_gram_JAS12_s = rmse_gram_JAS12[lambdas.argsort()]\n",
    "rmse_gram_FMA13_s = rmse_gram_FMA13[lambdas.argsort()]\n",
    "rmse_gram_JAS13_s = rmse_gram_JAS13[lambdas.argsort()]\n"
   ]
  },
  {
   "cell_type": "code",
   "execution_count": 17,
   "metadata": {},
   "outputs": [],
   "source": [
    "rmse_lapm_JAS12_s = rmse_lapm_JAS12[lambdas.argsort()]\n",
    "rmse_lapm_FMA13_s = rmse_lapm_FMA13[lambdas.argsort()]\n",
    "rmse_lapm_JAS13_s = rmse_lapm_JAS13[lambdas.argsort()]\n"
   ]
  },
  {
   "cell_type": "markdown",
   "metadata": {},
   "source": [
    "# Loading the RMSE of the original (non-filterd) SSH data (i.e. SSH_obs):"
   ]
  },
  {
   "cell_type": "code",
   "execution_count": 35,
   "metadata": {},
   "outputs": [],
   "source": [
    "dJAS12_orig = np.load('/Users/laura/PhD_private/develop/SWOT/Filtering/box_filtering/convergence_180521/tests/diagnostics/rmse_orig_JAS12_K.npz')\n",
    "dFMA13_orig = np.load('/Users/laura/PhD_private/develop/SWOT/Filtering/box_filtering/convergence_180521/tests/diagnostics/rmse_orig_FMA13_K.npz')\n",
    "dJAS13_orig = np.load('/Users/laura/PhD_private/develop/SWOT/Filtering/box_filtering/convergence_180521/tests/diagnostics/rmse_orig_JAS13_K.npz')"
   ]
  },
  {
   "cell_type": "markdown",
   "metadata": {},
   "source": [
    "# Minimum point:"
   ]
  },
  {
   "cell_type": "markdown",
   "metadata": {},
   "source": [
    "* ssh:"
   ]
  },
  {
   "cell_type": "code",
   "execution_count": 36,
   "metadata": {},
   "outputs": [
    {
     "name": "stdout",
     "output_type": "stream",
     "text": [
      "3.25\n",
      "3.25\n",
      "4.0\n"
     ]
    }
   ],
   "source": [
    "print lambdas_s[np.argmin(rmse_sshm_JAS12_s)]\n",
    "print lambdas_s[np.argmin(rmse_sshm_FMA13_s)]\n",
    "print lambdas_s[np.argmin(rmse_sshm_JAS13_s)]"
   ]
  },
  {
   "cell_type": "code",
   "execution_count": 37,
   "metadata": {},
   "outputs": [
    {
     "name": "stdout",
     "output_type": "stream",
     "text": [
      "0.002719922492431431\n",
      "0.0031341770852345197\n",
      "0.0026569470851822144\n"
     ]
    }
   ],
   "source": [
    "print rmse_sshm_JAS12_s.min()\n",
    "print rmse_sshm_FMA13_s.min()\n",
    "print rmse_sshm_JAS13_s.min()"
   ]
  },
  {
   "cell_type": "code",
   "execution_count": 52,
   "metadata": {},
   "outputs": [
    {
     "name": "stdout",
     "output_type": "stream",
     "text": [
      "11.23\n",
      "12.97\n",
      "10.99\n"
     ]
    }
   ],
   "source": [
    "print np.round(((rmse_sshm_JAS12_s/dJAS12_orig.f.rmse_ssh_m_0_JAS12).min())*100, 2)\n",
    "print np.round(((rmse_sshm_FMA13_s/dFMA13_orig.f.rmse_ssh_m_0_FMA13).min())*100, 2)\n",
    "print np.round(((rmse_sshm_JAS13_s/dJAS13_orig.f.rmse_ssh_m_0_JAS13).min())*100, 2)"
   ]
  },
  {
   "cell_type": "markdown",
   "metadata": {},
   "source": [
    "# --> values shown in table 1"
   ]
  },
  {
   "cell_type": "code",
   "execution_count": 39,
   "metadata": {},
   "outputs": [
    {
     "name": "stdout",
     "output_type": "stream",
     "text": [
      "3.25\n",
      "3.25\n",
      "4.0\n"
     ]
    }
   ],
   "source": [
    "print lambdas_s[np.argmin(rmse_sshm_JAS12_s/dJAS12_orig.f.rmse_ssh_m_0_JAS12)]\n",
    "print lambdas_s[np.argmin(rmse_sshm_FMA13_s/dFMA13_orig.f.rmse_ssh_m_0_FMA13)]\n",
    "print lambdas_s[np.argmin(rmse_sshm_JAS13_s/dJAS13_orig.f.rmse_ssh_m_0_JAS13)]"
   ]
  },
  {
   "cell_type": "markdown",
   "metadata": {},
   "source": [
    "* gra:"
   ]
  },
  {
   "cell_type": "code",
   "execution_count": 40,
   "metadata": {},
   "outputs": [
    {
     "name": "stdout",
     "output_type": "stream",
     "text": [
      "4.0\n",
      "3.25\n",
      "4.0\n"
     ]
    }
   ],
   "source": [
    "print lambdas_s[np.argmin(rmse_gram_JAS12_s)]\n",
    "print lambdas_s[np.argmin(rmse_gram_FMA13_s)]\n",
    "print lambdas_s[np.argmin(rmse_gram_JAS13_s)]"
   ]
  },
  {
   "cell_type": "code",
   "execution_count": 41,
   "metadata": {},
   "outputs": [
    {
     "name": "stdout",
     "output_type": "stream",
     "text": [
      "2.6916209521430202e-06\n",
      "5.346753370982829e-06\n",
      "2.5288441636186886e-06\n"
     ]
    }
   ],
   "source": [
    "print rmse_gram_JAS12_s.min()\n",
    "print rmse_gram_FMA13_s.min()\n",
    "print rmse_gram_JAS13_s.min()"
   ]
  },
  {
   "cell_type": "code",
   "execution_count": 47,
   "metadata": {},
   "outputs": [
    {
     "name": "stdout",
     "output_type": "stream",
     "text": [
      "0.067\n",
      "0.133\n",
      "0.063\n"
     ]
    }
   ],
   "source": [
    "print np.round(((rmse_gram_JAS12_s/dJAS12_orig.f.rmse_gra_m_0_JAS12).min())*100, 3)\n",
    "print np.round(((rmse_gram_FMA13_s/dFMA13_orig.f.rmse_gra_m_0_FMA13).min())*100, 3)\n",
    "print np.round(((rmse_gram_JAS13_s/dJAS13_orig.f.rmse_gra_m_0_JAS13).min())*100, 3)"
   ]
  },
  {
   "cell_type": "markdown",
   "metadata": {},
   "source": [
    "# --> values shown in table 1"
   ]
  },
  {
   "cell_type": "markdown",
   "metadata": {},
   "source": [
    "* Lap:"
   ]
  },
  {
   "cell_type": "code",
   "execution_count": 43,
   "metadata": {},
   "outputs": [
    {
     "name": "stdout",
     "output_type": "stream",
     "text": [
      "5.5\n",
      "4.75\n",
      "5.5\n"
     ]
    }
   ],
   "source": [
    "print lambdas_s[np.argmin(rmse_lapm_JAS12_s)]\n",
    "print lambdas_s[np.argmin(rmse_lapm_FMA13_s)]\n",
    "print lambdas_s[np.argmin(rmse_lapm_JAS13_s)]"
   ]
  },
  {
   "cell_type": "code",
   "execution_count": 44,
   "metadata": {},
   "outputs": [
    {
     "name": "stdout",
     "output_type": "stream",
     "text": [
      "0.0002643532064666205\n",
      "0.00044654857368420844\n",
      "0.00029006796989612465\n"
     ]
    }
   ],
   "source": [
    "print rmse_lapm_JAS12_s.min()\n",
    "print rmse_lapm_FMA13_s.min()\n",
    "print rmse_lapm_JAS13_s.min()"
   ]
  },
  {
   "cell_type": "code",
   "execution_count": 50,
   "metadata": {},
   "outputs": [
    {
     "name": "stdout",
     "output_type": "stream",
     "text": [
      "0.25\n",
      "0.424\n",
      "0.276\n"
     ]
    }
   ],
   "source": [
    "print np.round(((rmse_lapm_JAS12_s/dJAS12_orig.f.rmse_lap_m_0_JAS12).min())*100, 3)\n",
    "print np.round(((rmse_lapm_FMA13_s/dFMA13_orig.f.rmse_lap_m_0_FMA13).min())*100, 3)\n",
    "print np.round(((rmse_lapm_JAS13_s/dJAS13_orig.f.rmse_lap_m_0_JAS13).min())*100, 3)"
   ]
  },
  {
   "cell_type": "markdown",
   "metadata": {},
   "source": [
    "# --> values shown in table 1"
   ]
  },
  {
   "cell_type": "markdown",
   "metadata": {},
   "source": [
    "# All noises scenario:"
   ]
  },
  {
   "cell_type": "markdown",
   "metadata": {},
   "source": [
    "# Loading the data:"
   ]
  },
  {
   "cell_type": "code",
   "execution_count": 53,
   "metadata": {},
   "outputs": [],
   "source": [
    "dJAS12 = np.load('/Users/laura/PhD_private/develop/SWOT/Filtering/box_filtering/convergence_180521/tests/diagnostics/rmse_gaus_JAS12.npz')\n",
    "dFMA13 = np.load('/Users/laura/PhD_private/develop/SWOT/Filtering/box_filtering/convergence_180521/tests/diagnostics/rmse_gaus_FMA13.npz')\n",
    "dJAS13 = np.load('/Users/laura/PhD_private/develop/SWOT/Filtering/box_filtering/convergence_180521/tests/diagnostics/rmse_gaus_JAS13.npz')\n",
    "\n",
    "dJAS12_r = np.load('/Users/laura/PhD_private/develop/SWOT/Filtering/box_filtering/convergence_180521/tests/diagnostics/rmse_gaus_JAS12_ref.npz')\n",
    "dFMA13_r = np.load('/Users/laura/PhD_private/develop/SWOT/Filtering/box_filtering/convergence_180521/tests/diagnostics/rmse_gaus_FMA13_ref.npz')\n",
    "dJAS13_r = np.load('/Users/laura/PhD_private/develop/SWOT/Filtering/box_filtering/convergence_180521/tests/diagnostics/rmse_gaus_JAS13_ref.npz')"
   ]
  },
  {
   "cell_type": "code",
   "execution_count": 54,
   "metadata": {},
   "outputs": [],
   "source": [
    "rmse_sshm_JAS12 = np.concatenate([dJAS12.f.rmse_sshm_JAS12, dJAS12_r.f.rmse_sshm_JAS12])\n",
    "rmse_sshm_FMA13 = np.concatenate([dFMA13.f.rmse_sshm_FMA13, dFMA13_r.f.rmse_sshm_FMA13])\n",
    "rmse_sshm_JAS13 = np.concatenate([dJAS13.f.rmse_sshm_JAS13, dJAS13_r.f.rmse_sshm_JAS13])"
   ]
  },
  {
   "cell_type": "code",
   "execution_count": 55,
   "metadata": {},
   "outputs": [],
   "source": [
    "rmse_gram_JAS12 = np.concatenate([dJAS12.f.rmse_gram_JAS12, dJAS12_r.f.rmse_gram_JAS12])\n",
    "rmse_gram_FMA13 = np.concatenate([dFMA13.f.rmse_gram_FMA13, dFMA13_r.f.rmse_gram_FMA13])\n",
    "rmse_gram_JAS13 = np.concatenate([dJAS13.f.rmse_gram_JAS13, dJAS13_r.f.rmse_gram_JAS13])"
   ]
  },
  {
   "cell_type": "code",
   "execution_count": 56,
   "metadata": {},
   "outputs": [],
   "source": [
    "rmse_lapm_JAS12 = np.concatenate([dJAS12.f.rmse_lapm_JAS12, dJAS12_r.f.rmse_lapm_JAS12])\n",
    "rmse_lapm_FMA13 = np.concatenate([dFMA13.f.rmse_lapm_FMA13, dFMA13_r.f.rmse_lapm_FMA13])\n",
    "rmse_lapm_JAS13 = np.concatenate([dJAS13.f.rmse_lapm_JAS13, dJAS13_r.f.rmse_lapm_JAS13])"
   ]
  },
  {
   "cell_type": "code",
   "execution_count": 57,
   "metadata": {},
   "outputs": [],
   "source": [
    "rmse_sshm_JAS12_s = rmse_sshm_JAS12[lambdas.argsort()]\n",
    "rmse_sshm_FMA13_s = rmse_sshm_FMA13[lambdas.argsort()]\n",
    "rmse_sshm_JAS13_s = rmse_sshm_JAS13[lambdas.argsort()]\n"
   ]
  },
  {
   "cell_type": "code",
   "execution_count": 58,
   "metadata": {},
   "outputs": [],
   "source": [
    "rmse_gram_JAS12_s = rmse_gram_JAS12[lambdas.argsort()]\n",
    "rmse_gram_FMA13_s = rmse_gram_FMA13[lambdas.argsort()]\n",
    "rmse_gram_JAS13_s = rmse_gram_JAS13[lambdas.argsort()]\n"
   ]
  },
  {
   "cell_type": "code",
   "execution_count": 59,
   "metadata": {},
   "outputs": [],
   "source": [
    "rmse_lapm_JAS12_s = rmse_lapm_JAS12[lambdas.argsort()]\n",
    "rmse_lapm_FMA13_s = rmse_lapm_FMA13[lambdas.argsort()]\n",
    "rmse_lapm_JAS13_s = rmse_lapm_JAS13[lambdas.argsort()]\n"
   ]
  },
  {
   "cell_type": "markdown",
   "metadata": {},
   "source": [
    "# Loading the RMSE of the original (non-filterd) SSH data (i.e. SSH_obs):"
   ]
  },
  {
   "cell_type": "code",
   "execution_count": 60,
   "metadata": {},
   "outputs": [],
   "source": [
    "dJAS12_orig = np.load('/Users/laura/PhD_private/develop/SWOT/Filtering/box_filtering/convergence_180521/tests/diagnostics/rmse_orig_JAS12.npz')\n",
    "dFMA13_orig = np.load('/Users/laura/PhD_private/develop/SWOT/Filtering/box_filtering/convergence_180521/tests/diagnostics/rmse_orig_FMA13.npz')\n",
    "dJAS13_orig = np.load('/Users/laura/PhD_private/develop/SWOT/Filtering/box_filtering/convergence_180521/tests/diagnostics/rmse_orig_JAS13.npz')"
   ]
  },
  {
   "cell_type": "markdown",
   "metadata": {},
   "source": [
    "# Minimum point:"
   ]
  },
  {
   "cell_type": "markdown",
   "metadata": {},
   "source": [
    "* ssh:"
   ]
  },
  {
   "cell_type": "code",
   "execution_count": 61,
   "metadata": {},
   "outputs": [
    {
     "name": "stdout",
     "output_type": "stream",
     "text": [
      "9.25\n",
      "6.26\n",
      "50.0\n"
     ]
    }
   ],
   "source": [
    "print lambdas_s[np.argmin(rmse_sshm_JAS12_s)]\n",
    "print lambdas_s[np.argmin(rmse_sshm_FMA13_s)]\n",
    "print lambdas_s[np.argmin(rmse_sshm_JAS13_s)]"
   ]
  },
  {
   "cell_type": "code",
   "execution_count": 62,
   "metadata": {},
   "outputs": [
    {
     "name": "stdout",
     "output_type": "stream",
     "text": [
      "0.05977520273417687\n",
      "0.05968595200800732\n",
      "0.05707316893312585\n"
     ]
    }
   ],
   "source": [
    "print rmse_sshm_JAS12_s.min()\n",
    "print rmse_sshm_FMA13_s.min()\n",
    "print rmse_sshm_JAS13_s.min()"
   ]
  },
  {
   "cell_type": "code",
   "execution_count": 63,
   "metadata": {},
   "outputs": [
    {
     "name": "stdout",
     "output_type": "stream",
     "text": [
      "90.1\n",
      "90.76\n",
      "89.18\n"
     ]
    }
   ],
   "source": [
    "print np.round(((rmse_sshm_JAS12_s/dJAS12_orig.f.rmse_ssh_m_0_JAS12).min())*100, 2)\n",
    "print np.round(((rmse_sshm_FMA13_s/dFMA13_orig.f.rmse_ssh_m_0_FMA13).min())*100, 2)\n",
    "print np.round(((rmse_sshm_JAS13_s/dJAS13_orig.f.rmse_ssh_m_0_JAS13).min())*100, 2)"
   ]
  },
  {
   "cell_type": "markdown",
   "metadata": {},
   "source": [
    "# --> values shown in table 2"
   ]
  },
  {
   "cell_type": "code",
   "execution_count": 64,
   "metadata": {},
   "outputs": [
    {
     "name": "stdout",
     "output_type": "stream",
     "text": [
      "9.25\n",
      "6.26\n",
      "50.0\n"
     ]
    }
   ],
   "source": [
    "print lambdas_s[np.argmin(rmse_sshm_JAS12_s/dJAS12_orig.f.rmse_ssh_m_0_JAS12)]\n",
    "print lambdas_s[np.argmin(rmse_sshm_FMA13_s/dFMA13_orig.f.rmse_ssh_m_0_FMA13)]\n",
    "print lambdas_s[np.argmin(rmse_sshm_JAS13_s/dJAS13_orig.f.rmse_ssh_m_0_JAS13)]"
   ]
  },
  {
   "cell_type": "markdown",
   "metadata": {},
   "source": [
    "* gra:"
   ]
  },
  {
   "cell_type": "code",
   "execution_count": 65,
   "metadata": {},
   "outputs": [
    {
     "name": "stdout",
     "output_type": "stream",
     "text": [
      "10.75\n",
      "4.0\n",
      "8.5\n"
     ]
    }
   ],
   "source": [
    "print lambdas_s[np.argmin(rmse_gram_JAS12_s)]\n",
    "print lambdas_s[np.argmin(rmse_gram_FMA13_s)]\n",
    "print lambdas_s[np.argmin(rmse_gram_JAS13_s)]"
   ]
  },
  {
   "cell_type": "code",
   "execution_count": 66,
   "metadata": {},
   "outputs": [
    {
     "name": "stdout",
     "output_type": "stream",
     "text": [
      "6.346650882316687e-06\n",
      "8.951365089749242e-06\n",
      "5.128181016442566e-06\n"
     ]
    }
   ],
   "source": [
    "print rmse_gram_JAS12_s.min()\n",
    "print rmse_gram_FMA13_s.min()\n",
    "print rmse_gram_JAS13_s.min()"
   ]
  },
  {
   "cell_type": "code",
   "execution_count": 67,
   "metadata": {},
   "outputs": [
    {
     "name": "stdout",
     "output_type": "stream",
     "text": [
      "0.156\n",
      "0.221\n",
      "0.126\n"
     ]
    }
   ],
   "source": [
    "print np.round(((rmse_gram_JAS12_s/dJAS12_orig.f.rmse_gra_m_0_JAS12).min())*100, 3)\n",
    "print np.round(((rmse_gram_FMA13_s/dFMA13_orig.f.rmse_gra_m_0_FMA13).min())*100, 3)\n",
    "print np.round(((rmse_gram_JAS13_s/dJAS13_orig.f.rmse_gra_m_0_JAS13).min())*100, 3)"
   ]
  },
  {
   "cell_type": "markdown",
   "metadata": {},
   "source": [
    "# --> values shown in table 2"
   ]
  },
  {
   "cell_type": "markdown",
   "metadata": {},
   "source": [
    "* Lap:"
   ]
  },
  {
   "cell_type": "code",
   "execution_count": 68,
   "metadata": {},
   "outputs": [
    {
     "name": "stdout",
     "output_type": "stream",
     "text": [
      "7.0\n",
      "4.75\n",
      "6.26\n"
     ]
    }
   ],
   "source": [
    "print lambdas_s[np.argmin(rmse_lapm_JAS12_s)]\n",
    "print lambdas_s[np.argmin(rmse_lapm_FMA13_s)]\n",
    "print lambdas_s[np.argmin(rmse_lapm_JAS13_s)]"
   ]
  },
  {
   "cell_type": "code",
   "execution_count": 69,
   "metadata": {},
   "outputs": [
    {
     "name": "stdout",
     "output_type": "stream",
     "text": [
      "0.0002800003994802867\n",
      "0.00045988647253928164\n",
      "0.0003044165939474632\n"
     ]
    }
   ],
   "source": [
    "print rmse_lapm_JAS12_s.min()\n",
    "print rmse_lapm_FMA13_s.min()\n",
    "print rmse_lapm_JAS13_s.min()"
   ]
  },
  {
   "cell_type": "code",
   "execution_count": 70,
   "metadata": {},
   "outputs": [
    {
     "name": "stdout",
     "output_type": "stream",
     "text": [
      "0.264\n",
      "0.435\n",
      "0.289\n"
     ]
    }
   ],
   "source": [
    "print np.round(((rmse_lapm_JAS12_s/dJAS12_orig.f.rmse_lap_m_0_JAS12).min())*100, 3)\n",
    "print np.round(((rmse_lapm_FMA13_s/dFMA13_orig.f.rmse_lap_m_0_FMA13).min())*100, 3)\n",
    "print np.round(((rmse_lapm_JAS13_s/dJAS13_orig.f.rmse_lap_m_0_JAS13).min())*100, 3)"
   ]
  },
  {
   "cell_type": "markdown",
   "metadata": {},
   "source": [
    "# --> values shown in table 2"
   ]
  },
  {
   "cell_type": "code",
   "execution_count": null,
   "metadata": {},
   "outputs": [],
   "source": []
  }
 ],
 "metadata": {
  "anaconda-cloud": {},
  "kernelspec": {
   "display_name": "Python [default]",
   "language": "python",
   "name": "python2"
  },
  "language_info": {
   "codemirror_mode": {
    "name": "ipython",
    "version": 2
   },
   "file_extension": ".py",
   "mimetype": "text/x-python",
   "name": "python",
   "nbconvert_exporter": "python",
   "pygments_lexer": "ipython2",
   "version": "2.7.11"
  }
 },
 "nbformat": 4,
 "nbformat_minor": 2
}
